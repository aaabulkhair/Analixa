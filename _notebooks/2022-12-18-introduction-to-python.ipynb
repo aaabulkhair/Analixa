{
 "cells": [
  {
   "cell_type": "markdown",
   "metadata": {},
   "source": [
    "# 1. Introduction to Python\n",
    "> In this series of acticles, we will cover the basiscs of analysis and visualization using Python. The lessons will start growing gradually untill forming a concrete analytical mindset for students. This lesson will cover the essentials of Python and its various objects and data structures. \n",
    "\n",
    "\n",
    "- toc:true\n",
    "- branch: master\n",
    "- badges: true\n",
    "- comments: true\n",
    "- author: Ahmed Abulkhair\n",
    "- categories: [Python, Data Analysis, Data Science]\n",
    "- image: images/Python.gif"
   ]
  },
  {
   "cell_type": "markdown",
   "metadata": {},
   "source": [
    "## You will learn:"
   ]
  },
  {
   "cell_type": "markdown",
   "metadata": {},
   "source": [
    "1. How to use Jupyter Notebooks\n",
    "2. Python Variables\n",
    "3. Numeric, string and Logical Operator\n",
    "4. Mathematical Operators\n",
    "5. Lists, Dicts, Tuples, and Sets \n"
   ]
  },
  {
   "cell_type": "markdown",
   "metadata": {},
   "source": [
    "A cell can be excuted by using <br> ***shift + enter***"
   ]
  },
  {
   "cell_type": "markdown",
   "metadata": {},
   "source": [
    "#### Python Variables"
   ]
  },
  {
   "cell_type": "markdown",
   "metadata": {},
   "source": [
    "Variables in Python, unlike other programming langugues, do not need a pre-assignment. They got declared the moment you asign a value to them. "
   ]
  },
  {
   "cell_type": "code",
   "execution_count": 128,
   "metadata": {},
   "outputs": [],
   "source": [
    "# now we will create a variable 'a' that will be equal to 3\n",
    "a = 3 "
   ]
  },
  {
   "cell_type": "code",
   "execution_count": 129,
   "metadata": {},
   "outputs": [
    {
     "name": "stdout",
     "output_type": "stream",
     "text": [
      "3\n"
     ]
    }
   ],
   "source": [
    "# if we call that variable again we will see its value\n",
    "print(a)"
   ]
  },
  {
   "cell_type": "code",
   "execution_count": 130,
   "metadata": {},
   "outputs": [
    {
     "name": "stdout",
     "output_type": "stream",
     "text": [
      "<class 'int'>\n"
     ]
    }
   ],
   "source": [
    "# how to check the type of a variable ?\n",
    "print(type(a))"
   ]
  },
  {
   "cell_type": "markdown",
   "metadata": {},
   "source": [
    "The variable here is of type `int` which represents a whole number. However, the transition due to any mathematical transformation between the `int` type and `float` type is smooth"
   ]
  },
  {
   "cell_type": "code",
   "execution_count": 131,
   "metadata": {},
   "outputs": [
    {
     "name": "stdout",
     "output_type": "stream",
     "text": [
      "2a : 6\n",
      "a/5 : 0.6\n",
      "a ** 4 : 81\n"
     ]
    }
   ],
   "source": [
    "# int variables can be used in any mathmatical operation\n",
    "print('2a :', 2*a)\n",
    "print('a/5 :', a / 5)\n",
    "print('a ** 4 :', a ** 4)"
   ]
  },
  {
   "cell_type": "code",
   "execution_count": 132,
   "metadata": {},
   "outputs": [
    {
     "name": "stdout",
     "output_type": "stream",
     "text": [
      "f:  3.2\n",
      "type:  <class 'float'>\n",
      "2f:  16.0\n",
      "f/3:  1.0666666666666667\n"
     ]
    }
   ],
   "source": [
    "# What about numbers with floating points\n",
    "f = 3.2\n",
    "print('f: ', f)\n",
    "print('type: ', type(f))\n",
    "print('2f: ', 5*f )\n",
    "print('f/3: ', f / 3)"
   ]
  },
  {
   "cell_type": "markdown",
   "metadata": {},
   "source": [
    "Also, `float` data type is very smooth in mathematical transformation but `float` data type does not go to `int` data type by itself. "
   ]
  },
  {
   "cell_type": "markdown",
   "metadata": {},
   "source": [
    "##### Python can easily create `str` variables also"
   ]
  },
  {
   "cell_type": "code",
   "execution_count": 133,
   "metadata": {},
   "outputs": [],
   "source": [
    "# Can we create another data types that can represent some text for example?\n",
    "str_var = 'Python'"
   ]
  },
  {
   "cell_type": "code",
   "execution_count": 134,
   "metadata": {},
   "outputs": [
    {
     "name": "stdout",
     "output_type": "stream",
     "text": [
      "Python\n"
     ]
    }
   ],
   "source": [
    "# What its value if we call it?\n",
    "print(str_var)"
   ]
  },
  {
   "cell_type": "code",
   "execution_count": 135,
   "metadata": {},
   "outputs": [
    {
     "name": "stdout",
     "output_type": "stream",
     "text": [
      "<class 'str'>\n"
     ]
    }
   ],
   "source": [
    "# Check the datatype\n",
    "print(type(str_var))"
   ]
  },
  {
   "cell_type": "code",
   "execution_count": 136,
   "metadata": {},
   "outputs": [
    {
     "name": "stdout",
     "output_type": "stream",
     "text": [
      "6\n"
     ]
    }
   ],
   "source": [
    "# How many characters?\n",
    "print(len(str_var))"
   ]
  },
  {
   "cell_type": "markdown",
   "metadata": {},
   "source": [
    "##### Strangly, Python string variables are responsive for addition and multiplication operations also but in a different way! Which is `concatenation`\n"
   ]
  },
  {
   "cell_type": "code",
   "execution_count": 137,
   "metadata": {},
   "outputs": [
    {
     "name": "stdout",
     "output_type": "stream",
     "text": [
      "PythonPython\n"
     ]
    }
   ],
   "source": [
    "print(2*str_var)"
   ]
  },
  {
   "cell_type": "code",
   "execution_count": 138,
   "metadata": {},
   "outputs": [
    {
     "name": "stdout",
     "output_type": "stream",
     "text": [
      "PythonPython\n"
     ]
    }
   ],
   "source": [
    "# addition process\n",
    "print(str_var + str_var)"
   ]
  },
  {
   "cell_type": "code",
   "execution_count": 139,
   "metadata": {},
   "outputs": [
    {
     "name": "stdout",
     "output_type": "stream",
     "text": [
      "======================================================================================================================================================\n"
     ]
    }
   ],
   "source": [
    "# string multiplication can be useful and fun!\n",
    "print('=='*75)"
   ]
  },
  {
   "cell_type": "markdown",
   "metadata": {},
   "source": [
    "#### String Manipulation\n",
    "\n",
    "String manipulation is to extract some new information from the input `str`. These information can be the index of a caracter, a part of a word, firt or last charcter of a string, etc.. "
   ]
  },
  {
   "cell_type": "markdown",
   "metadata": {},
   "source": [
    "##### Indexing\n",
    "\n",
    "Indexing is the way Python call indvidual charcters. It has two modes forward and backward mode. Each of them is designed to ease the process of string manpulation. \n",
    "\n",
    "This indexing style is valid for various objects in python such as `lists`, and `tuples`\n",
    "\n",
    "![Indexing](images/indexing.png)\n"
   ]
  },
  {
   "cell_type": "code",
   "execution_count": 140,
   "metadata": {},
   "outputs": [
    {
     "name": "stdout",
     "output_type": "stream",
     "text": [
      "P\n"
     ]
    }
   ],
   "source": [
    "print(str_var[0])"
   ]
  },
  {
   "cell_type": "code",
   "execution_count": 141,
   "metadata": {},
   "outputs": [
    {
     "name": "stdout",
     "output_type": "stream",
     "text": [
      "n\n"
     ]
    }
   ],
   "source": [
    "print(str_var[-1])"
   ]
  },
  {
   "cell_type": "markdown",
   "metadata": {},
   "source": [
    "You can also use indexing to select a range of the variable. "
   ]
  },
  {
   "cell_type": "code",
   "execution_count": 142,
   "metadata": {},
   "outputs": [
    {
     "name": "stdout",
     "output_type": "stream",
     "text": [
      "Py\n",
      "Py\n"
     ]
    }
   ],
   "source": [
    "print(str_var[0:2])\n",
    "print(str_var[:2])"
   ]
  },
  {
   "cell_type": "markdown",
   "metadata": {},
   "source": [
    "###### Notice\n",
    "- `str_var[0:2]` and `str_var[:2]` are equivilent to each other. When not starting index is passed it means start from the begining. The same applies when no ending index is passed. \n",
    "- Ending index is exclusive which means in `str_var[0:2]` only index 0 and 1 will be indexed. "
   ]
  },
  {
   "cell_type": "markdown",
   "metadata": {},
   "source": [
    "What if we want to know the index of a specific charachater in a long string? `index` function can help on that. "
   ]
  },
  {
   "cell_type": "code",
   "execution_count": 143,
   "metadata": {},
   "outputs": [
    {
     "name": "stdout",
     "output_type": "stream",
     "text": [
      "5\n"
     ]
    }
   ],
   "source": [
    "print(str_var.index('n'))"
   ]
  },
  {
   "cell_type": "markdown",
   "metadata": {},
   "source": [
    "You can use this function to do a bunch of manipulations!\n",
    "\n",
    "Suppose you want to get the word passed or faild out of a sentence in that format: `\"student_name is passed/failed\"`"
   ]
  },
  {
   "cell_type": "code",
   "execution_count": 144,
   "metadata": {},
   "outputs": [
    {
     "name": "stdout",
     "output_type": "stream",
     "text": [
      "11\n",
      "s passed\n",
      "passed\n"
     ]
    }
   ],
   "source": [
    "str_var_2 = 'Muhammad has passed'\n",
    "# Let's try to find the index of s. \n",
    "print(str_var_2.index('s'))\n",
    "# Let's try to use this in an indexing form. \n",
    "print(str_var_2[str_var_2.index('s'):])\n",
    "# It seems that we are adding up more places\n",
    "print(str_var_2[str_var_2.index('s')+2:])\n"
   ]
  },
  {
   "cell_type": "markdown",
   "metadata": {},
   "source": [
    "##### String Methods\n",
    "\n",
    "There are many methods associated with strings in Python. You can read more about them in this `w3s` [page.](https://www.w3schools.com/python/python_ref_string.asp)\n",
    "\n",
    "Below are some of those methods:"
   ]
  },
  {
   "cell_type": "code",
   "execution_count": 145,
   "metadata": {},
   "outputs": [
    {
     "name": "stdout",
     "output_type": "stream",
     "text": [
      "\n",
      "Converted String: upper()\n",
      "DATA ANALYSIS IS FUN\n",
      "\n",
      "Converted String: lower()\n",
      "data analysis is fun\n",
      "\n",
      "Converted String: title()\n",
      "Data Analysis Is Fun\n",
      "\n",
      "Original String\n",
      "dAta Analysis is FUn\n"
     ]
    }
   ],
   "source": [
    "# working of upper() function\n",
    "text = 'dAta Analysis is FUn'\n",
    "\n",
    "# upper() function to convert\n",
    "# string to upper case\n",
    "print(\"\\nConverted String: upper()\")\n",
    "print(text.upper())\n",
    "\n",
    "# lower() function to convert\n",
    "# string to lower case\n",
    "print(\"\\nConverted String: lower()\")\n",
    "print(text.lower())\n",
    "\n",
    "# converts the first character to\n",
    "# upper case and rest to lower case\n",
    "print(\"\\nConverted String: title()\")\n",
    "print(text.title())\n",
    "\n",
    "# original string never changes\n",
    "print(\"\\nOriginal String\")\n",
    "print(text)\n"
   ]
  },
  {
   "cell_type": "markdown",
   "metadata": {},
   "source": [
    "#### Comparison Operators\n",
    "\n",
    "Comparison operators are the operands that are used to compare between two values. In Python, and unlike any other languague, there's no need to consturct conditional statements to query the result of the comparison. You can directly ask for the comparison just like the following. "
   ]
  },
  {
   "cell_type": "code",
   "execution_count": 146,
   "metadata": {},
   "outputs": [
    {
     "data": {
      "text/plain": [
       "True"
      ]
     },
     "execution_count": 146,
     "metadata": {},
     "output_type": "execute_result"
    }
   ],
   "source": [
    "x = 10\n",
    "y = 5\n",
    "x > y"
   ]
  },
  {
   "cell_type": "markdown",
   "metadata": {},
   "source": [
    "Below is a list of all possible operators\n",
    "\n",
    "| Operator | Discription | Syntax |\n",
    "| --- | --- | --- |\n",
    "| > | Greater than: True if the left operand is greater than the right | x > y |\n",
    "| < | Less than: True if the left operand is less than the right | x < y |\n",
    "| == | Equal to: True if both operands are equal | x == y |\n",
    "| != | Not equal to – True if operands are not equal | x != y |\n",
    "| >= | Greater than or equal to: True if left operand is greater than or equal to the right | x >= y |\n",
    "| <= | Less than or equal to: True if left operand is less than or equal to the right | x <= y |"
   ]
  },
  {
   "cell_type": "markdown",
   "metadata": {},
   "source": [
    "#### Logical Operators\n",
    "\n",
    "You can difine a variable in Python in a logical setting which means `true` or `flase` and the maths operations on top of it will be exactly like the normal ANDing, ORing, etc.. "
   ]
  },
  {
   "cell_type": "code",
   "execution_count": 147,
   "metadata": {},
   "outputs": [
    {
     "name": "stdout",
     "output_type": "stream",
     "text": [
      "False\n",
      "True\n",
      "False\n"
     ]
    }
   ],
   "source": [
    "a = True\n",
    "b = False\n",
    "print(a and b)\n",
    "print(a or b)\n",
    "print(not a)"
   ]
  },
  {
   "cell_type": "markdown",
   "metadata": {},
   "source": [
    "#### Mathematical Notation and Precedence.\n",
    "Every programming langugue has its own style in writing mathematical formulas. The operator precedence in Python is listed in the following table. It is in descending order (upper group has higher precedence than the lower ones).\n",
    "\n",
    "| Operators | Meaning |\n",
    "| --- | --- |\n",
    "| ( ) | Parentheses |\n",
    "| ** | Exponent |\n",
    "| +x, -x, ~x | Unary plus, Unary minus, Bitwise NOT |\n",
    "| *, /, //, % | Multiplication, Division, Floor division, Modulus |\n",
    "| +, - | Addition, Subtraction |\n",
    "| <<, >> | Bitwise shift operators |\n",
    "| & | Bitwise AND |\n",
    "| ^ | Bitwise XOR |\n",
    "| | | Bitwise OR |\n",
    "| ==, !=, >, >=, <, <=, is, is not, in, not in | Comparisons, Identity, Membership operators |\n",
    "| not | Logical NOT |\n",
    "| and | Logical ANDT |\n",
    "| or\t | Logical OR |\n"
   ]
  },
  {
   "cell_type": "markdown",
   "metadata": {},
   "source": [
    "#### Lists\n",
    "\n",
    "Lists are used to store multiple items in a single variable and they are created using square brackets and they can be indexed similarly to the strings. \n",
    "\n",
    "\n",
    "Let's create our first list."
   ]
  },
  {
   "cell_type": "code",
   "execution_count": 148,
   "metadata": {},
   "outputs": [],
   "source": [
    "# List initialization\n",
    "sea_creatures = ['shark', 'cuttlefish', 'squid', 'mantis shrimp', 'anemone']"
   ]
  },
  {
   "cell_type": "code",
   "execution_count": 149,
   "metadata": {},
   "outputs": [
    {
     "name": "stdout",
     "output_type": "stream",
     "text": [
      "['shark', 'cuttlefish', 'squid', 'mantis shrimp', 'anemone']\n"
     ]
    }
   ],
   "source": [
    "# Print a list\n",
    "print(sea_creatures)"
   ]
  },
  {
   "cell_type": "markdown",
   "metadata": {},
   "source": [
    "Number of elements in the list can be determined using `len` function. "
   ]
  },
  {
   "cell_type": "code",
   "execution_count": 150,
   "metadata": {},
   "outputs": [
    {
     "data": {
      "text/plain": [
       "5"
      ]
     },
     "execution_count": 150,
     "metadata": {},
     "output_type": "execute_result"
    }
   ],
   "source": [
    "# How many elements in this list\n",
    "len(sea_creatures)"
   ]
  },
  {
   "cell_type": "code",
   "execution_count": 151,
   "metadata": {},
   "outputs": [
    {
     "data": {
      "text/plain": [
       "list"
      ]
     },
     "execution_count": 151,
     "metadata": {},
     "output_type": "execute_result"
    }
   ],
   "source": [
    "type(sea_creatures)"
   ]
  },
  {
   "cell_type": "markdown",
   "metadata": {},
   "source": [
    "##### Indexing in Lists"
   ]
  },
  {
   "cell_type": "code",
   "execution_count": 152,
   "metadata": {},
   "outputs": [
    {
     "name": "stdout",
     "output_type": "stream",
     "text": [
      "The first element of sea_creatures :  shark\n",
      "The last element of sea_creatures :  anemone\n"
     ]
    }
   ],
   "source": [
    "# Indexing\n",
    "print('The first element of sea_creatures : ', sea_creatures[0])\n",
    "print('The last element of sea_creatures : ', sea_creatures[-1])"
   ]
  },
  {
   "cell_type": "markdown",
   "metadata": {},
   "source": [
    "One important aspect of lists is that they are `mutable` objects which means they allow modifications to thier values. "
   ]
  },
  {
   "cell_type": "code",
   "execution_count": 153,
   "metadata": {},
   "outputs": [
    {
     "name": "stdout",
     "output_type": "stream",
     "text": [
      "['octopus', 'cuttlefish', 'squid', 'mantis shrimp', 'anemone']\n"
     ]
    }
   ],
   "source": [
    "# Modifing in a list\n",
    "sea_creatures[0] = 'octopus'\n",
    "# Let's check\n",
    "print(sea_creatures)"
   ]
  },
  {
   "cell_type": "code",
   "execution_count": 154,
   "metadata": {},
   "outputs": [
    {
     "name": "stdout",
     "output_type": "stream",
     "text": [
      "['octopus', 'cuttlefish', 'squid']\n"
     ]
    }
   ],
   "source": [
    "# Slicing \n",
    "print(sea_creatures[:3])"
   ]
  },
  {
   "cell_type": "code",
   "execution_count": 155,
   "metadata": {},
   "outputs": [
    {
     "name": "stdout",
     "output_type": "stream",
     "text": [
      "[1, 3, 5, 7, 9]\n"
     ]
    }
   ],
   "source": [
    "# Strid\n",
    "numbers = [0, 1, 2, 3, 4, 5, 6, 7, 8, 9, 10, 11, 12]\n",
    "print(numbers[1:11:2])"
   ]
  },
  {
   "cell_type": "code",
   "execution_count": 156,
   "metadata": {},
   "outputs": [
    {
     "name": "stdout",
     "output_type": "stream",
     "text": [
      "[0, 2, 4, 6, 8, 10, 12]\n"
     ]
    }
   ],
   "source": [
    "# we can omit the first two parameters\n",
    "print(numbers[::2])"
   ]
  },
  {
   "cell_type": "markdown",
   "metadata": {},
   "source": [
    "##### Concatination in lists"
   ]
  },
  {
   "cell_type": "code",
   "execution_count": 157,
   "metadata": {},
   "outputs": [
    {
     "name": "stdout",
     "output_type": "stream",
     "text": [
      "['shark', 'octopus', 'blobfish', 'mantis shrimp', 'anemone', 'Pacific', 'Atlantic', 'Indian', 'Southern', 'Arctic']\n",
      "length of sea_creatures :  5\n",
      "length of oceans :  5\n",
      "length of summation :  10\n"
     ]
    }
   ],
   "source": [
    "# Lists can be added\n",
    "sea_creatures = ['shark', 'octopus', 'blobfish', 'mantis shrimp', 'anemone']\n",
    "oceans = ['Pacific', 'Atlantic', 'Indian', 'Southern', 'Arctic']\n",
    "print(sea_creatures + oceans)\n",
    "print('length of sea_creatures : ', len(sea_creatures))\n",
    "print('length of oceans : ', len(oceans))\n",
    "print('length of summation : ', len(sea_creatures + oceans))"
   ]
  },
  {
   "cell_type": "code",
   "execution_count": 158,
   "metadata": {},
   "outputs": [
    {
     "name": "stdout",
     "output_type": "stream",
     "text": [
      "10\n",
      "['shark', 'octopus', 'blobfish', 'mantis shrimp', 'anemone', 'shark', 'octopus', 'blobfish', 'mantis shrimp', 'anemone']\n"
     ]
    }
   ],
   "source": [
    "# Lists can be multiplied\n",
    "multiplication = 2 * sea_creatures\n",
    "print(len(multiplication))\n",
    "print(multiplication)"
   ]
  },
  {
   "cell_type": "code",
   "execution_count": 159,
   "metadata": {},
   "outputs": [
    {
     "name": "stdout",
     "output_type": "stream",
     "text": [
      "['octopus', 'blobfish', 'mantis shrimp', 'anemone']\n"
     ]
    }
   ],
   "source": [
    "# Removing item from list\n",
    "del sea_creatures[0]\n",
    "# check the list\n",
    "print(sea_creatures)"
   ]
  },
  {
   "cell_type": "code",
   "execution_count": 160,
   "metadata": {},
   "outputs": [
    {
     "name": "stdout",
     "output_type": "stream",
     "text": [
      "['octopus', 'blobfish', 'mantis shrimp']\n"
     ]
    }
   ],
   "source": [
    "# What if we know the element not its index\n",
    "sea_creatures.remove('anemone')\n",
    "# Check the list again\n",
    "print(sea_creatures)"
   ]
  },
  {
   "cell_type": "markdown",
   "metadata": {},
   "source": [
    "Also, one of the most powerful things about lists is that they are accepting mixed datatypes which means one list can contain `int`, `float`, `str`, etc.. at the same time. "
   ]
  },
  {
   "cell_type": "code",
   "execution_count": 161,
   "metadata": {},
   "outputs": [
    {
     "name": "stdout",
     "output_type": "stream",
     "text": [
      "['Data', 23, 'Management']\n",
      "<class 'str'>\n",
      "<class 'int'>\n"
     ]
    }
   ],
   "source": [
    "# Lists can contain different data types\n",
    "mixed = ['Data', 23, 'Management']\n",
    "print(mixed)\n",
    "print(type(mixed[0]))\n",
    "print(type(mixed[1]))"
   ]
  },
  {
   "cell_type": "code",
   "execution_count": 162,
   "metadata": {},
   "outputs": [
    {
     "name": "stdout",
     "output_type": "stream",
     "text": [
      "No. of elements in list_of_lists :  2\n",
      "No. of elements in the first one :  4\n",
      "No. of elements in the second one :  3\n"
     ]
    }
   ],
   "source": [
    "# List can contain othe lists!\n",
    "list_of_lists = [['Data', 'Science', 'is', 'fun'], ['Python', 'is', 'powerful']]\n",
    "print('No. of elements in list_of_lists : ', len(list_of_lists))\n",
    "print('No. of elements in the first one : ', len(list_of_lists[0]))\n",
    "print('No. of elements in the second one : ', len(list_of_lists[1]))"
   ]
  },
  {
   "cell_type": "code",
   "execution_count": 163,
   "metadata": {},
   "outputs": [
    {
     "name": "stdout",
     "output_type": "stream",
     "text": [
      "Data out of list_of_lists :  Data\n",
      "powerful out of list_of_lists :  powerful\n"
     ]
    }
   ],
   "source": [
    "# Indexing \n",
    "print('Data out of list_of_lists : ', list_of_lists[0][0])\n",
    "print('powerful out of list_of_lists : ', list_of_lists[1][-1])"
   ]
  },
  {
   "cell_type": "code",
   "execution_count": 164,
   "metadata": {},
   "outputs": [
    {
     "name": "stdout",
     "output_type": "stream",
     "text": [
      "check for the added element :  [['Data', 'Science', 'is', 'fun'], ['Python', 'is', 'powerful'], 'The added element']\n"
     ]
    }
   ],
   "source": [
    "# add values to a list\n",
    "list_of_lists.append('The added element')\n",
    "print('check for the added element : ', list_of_lists)"
   ]
  },
  {
   "cell_type": "markdown",
   "metadata": {},
   "source": [
    "Speaking about strings and lists, any `str` variable can be converted to `list` using `.split()` method. Also, keep in mind that converting `str` to `list` is a huge privilage as lists are prefect for looping. This will be demonstated in later lessons. "
   ]
  },
  {
   "cell_type": "code",
   "execution_count": 165,
   "metadata": {},
   "outputs": [
    {
     "name": "stdout",
     "output_type": "stream",
     "text": [
      "text :  Python is a very powerful programming languge. You can make almost any application you want with python\n",
      "\n",
      "type of text :  <class 'str'>\n",
      "\n",
      "text_list :  ['Python', 'is', 'a', 'very', 'powerful', 'programming', 'languge.', 'You', 'can', 'make', 'almost', 'any', 'application', 'you', 'want', 'with', 'python']\n",
      "\n",
      "type of text_list :  <class 'list'>\n"
     ]
    }
   ],
   "source": [
    "# Convert a text to list \n",
    "# =====================\n",
    "# Suppose you have a text and want to make every word as an element of a list for some further processing \n",
    "text = \"Python is a very powerful programming languge. You can make almost any application you want with python\"\n",
    "print('text : ', text)\n",
    "print()\n",
    "print('type of text : ', type(text))\n",
    "print()\n",
    "# split() method --> make a split into a text on a desired separator\n",
    "text_list = text.split()\n",
    "print('text_list : ', text_list)\n",
    "print()\n",
    "print('type of text_list : ', type(text_list))"
   ]
  },
  {
   "cell_type": "markdown",
   "metadata": {},
   "source": [
    "#### Dictionaries\n",
    "\n",
    "Dictionaries are used to store data values in key:value pairs.\n",
    "\n",
    "A dictionary is a collection which is ordered, changeable and do not allow duplicates in keys. "
   ]
  },
  {
   "cell_type": "code",
   "execution_count": 166,
   "metadata": {},
   "outputs": [
    {
     "name": "stdout",
     "output_type": "stream",
     "text": [
      "empty list :  {}\n",
      "dict with integer keys :  {1: 'apple', 2: 'ball'}\n",
      "lenght of my_int_dict :  2\n",
      "dict with mixed keys and values :  {'name': 'John', 1: [2, 4, 3]}\n",
      "New way of defining list :  {1: 'apple', 2: 'ball'}\n",
      "Sequence dict :  {1: 'apple', 2: 'ball'}\n"
     ]
    }
   ],
   "source": [
    "# empty dictionary\n",
    "my_empty_dict = {}\n",
    "print('empty list : ', my_empty_dict)\n",
    "\n",
    "# dictionary with integer keys\n",
    "my_int_dict = {1: 'apple', 2: 'ball'}\n",
    "print('dict with integer keys : ', my_int_dict)\n",
    "\n",
    "# check the length of my_int_dict \n",
    "print('lenght of my_int_dict : ', len(my_int_dict))\n",
    "\n",
    "# dictionary with mixed keys\n",
    "my_mixed_dict = {'name': 'John', 1: [2, 4, 3]}\n",
    "print('dict with mixed keys and values : ', my_mixed_dict)\n",
    "\n",
    "# another way to define a dict\n",
    "my_new_dict = dict({1:'apple', 2:'ball'})\n",
    "print('New way of defining list : ', my_new_dict)\n",
    "\n",
    "# from sequence having each item as a pair\n",
    "my_sequence_dict = dict([(1,'apple'), (2,'ball')])\n",
    "print('Sequence dict : ', my_sequence_dict)"
   ]
  },
  {
   "cell_type": "markdown",
   "metadata": {},
   "source": [
    "###### Dictionary Default form\n",
    "```\n",
    "mydict = {\n",
    "'k1' : 'v1', \n",
    "'k2' : 'v2', \n",
    "'k3' : 'v3'\n",
    "}\n",
    "```"
   ]
  },
  {
   "cell_type": "code",
   "execution_count": 167,
   "metadata": {},
   "outputs": [
    {
     "name": "stdout",
     "output_type": "stream",
     "text": [
      "name_length :  {'ahmed': 170, 'hossam': 176, 'nada': 160, 'bassam': 180}\n",
      "The type of name_length :  <class 'dict'>\n"
     ]
    }
   ],
   "source": [
    "# name and length dict\n",
    "name_length = {\n",
    "    'ahmed' : 170,\n",
    "    'hossam': 176,\n",
    "    'nada'  : 160, \n",
    "    'bassam': 180\n",
    "}\n",
    "print('name_length : ', name_length)\n",
    "\n",
    "# check datatype\n",
    "print('The type of name_length : ', type(name_length))"
   ]
  },
  {
   "cell_type": "markdown",
   "metadata": {},
   "source": [
    "Unlike strings and lists, Dictionaries do not allow indexing because they are meant to be querable. "
   ]
  },
  {
   "cell_type": "code",
   "execution_count": 168,
   "metadata": {},
   "outputs": [
    {
     "name": "stdout",
     "output_type": "stream",
     "text": [
      "the length of ahmed :  170\n",
      "the length of nada :  160\n"
     ]
    }
   ],
   "source": [
    "# Indexing in dictionaries must be done by key\n",
    "print('the length of ahmed : ', name_length['ahmed'])\n",
    "print('the length of nada : ', name_length['nada'])"
   ]
  },
  {
   "cell_type": "code",
   "execution_count": 169,
   "metadata": {},
   "outputs": [
    {
     "ename": "KeyError",
     "evalue": "'mostafa'",
     "output_type": "error",
     "traceback": [
      "\u001b[1;31m---------------------------------------------------------------------------\u001b[0m",
      "\u001b[1;31mKeyError\u001b[0m                                  Traceback (most recent call last)",
      "Input \u001b[1;32mIn [169]\u001b[0m, in \u001b[0;36m<cell line: 2>\u001b[1;34m()\u001b[0m\n\u001b[0;32m      1\u001b[0m \u001b[38;5;66;03m# try accessing a key whick does not exist\u001b[39;00m\n\u001b[1;32m----> 2\u001b[0m \u001b[38;5;28mprint\u001b[39m(\u001b[38;5;124m'\u001b[39m\u001b[38;5;124mthe lenght of mostafa : \u001b[39m\u001b[38;5;124m'\u001b[39m, \u001b[43mname_length\u001b[49m\u001b[43m[\u001b[49m\u001b[38;5;124;43m'\u001b[39;49m\u001b[38;5;124;43mmostafa\u001b[39;49m\u001b[38;5;124;43m'\u001b[39;49m\u001b[43m]\u001b[49m)\n",
      "\u001b[1;31mKeyError\u001b[0m: 'mostafa'"
     ]
    }
   ],
   "source": [
    "# try accessing a key whick does not exist\n",
    "print('the lenght of mostafa : ', name_length['mostafa'])"
   ]
  },
  {
   "cell_type": "code",
   "execution_count": 170,
   "metadata": {},
   "outputs": [
    {
     "name": "stdout",
     "output_type": "stream",
     "text": [
      "name_length :  {'ahmed': 170, 'hossam': 176, 'nada': 160, 'bassam': 180, 'samir': 190}\n",
      "check for ahmed :  {'ahmed': 150, 'hossam': 176, 'nada': 160, 'bassam': 180, 'samir': 190}\n"
     ]
    }
   ],
   "source": [
    "# How to add elements to a dict \n",
    "name_length['samir'] = 190\n",
    "# check if samir was added\n",
    "print('name_length : ', name_length)\n",
    "# what if we try to add to an existing key\n",
    "name_length['ahmed'] = 150\n",
    "# check the value of ahmed\n",
    "print('check for ahmed : ', name_length)"
   ]
  },
  {
   "cell_type": "code",
   "execution_count": 171,
   "metadata": {},
   "outputs": [
    {
     "name": "stdout",
     "output_type": "stream",
     "text": [
      "the type of person :  <class 'dict'>\n",
      "person dict :  {'fname': 'Joe', 'lname': 'Fonebone', 'age': 51, 'spouse': 'Edna', 'children': ['Ralph', 'Betty', 'Joey'], 'pets': {'dog': 'Fido', 'cat': 'Sox'}}\n"
     ]
    }
   ],
   "source": [
    "# List can contain lists and dicts also\n",
    "person = {}\n",
    "print('the type of person : ', type(person))\n",
    "\n",
    "person['fname'] = 'Joe'\n",
    "person['lname'] = 'Fonebone'\n",
    "person['age'] = 51\n",
    "person['spouse'] = 'Edna'\n",
    "person['children'] = ['Ralph', 'Betty', 'Joey']\n",
    "person['pets'] = {'dog': 'Fido', 'cat': 'Sox'}\n",
    "\n",
    "print('person dict : ', person)"
   ]
  },
  {
   "cell_type": "code",
   "execution_count": 172,
   "metadata": {},
   "outputs": [
    {
     "name": "stdout",
     "output_type": "stream",
     "text": [
      "spouse name :  Edna\n",
      "name of last child :  Joey\n",
      "Sox\n"
     ]
    }
   ],
   "source": [
    "# how to get this person spouse name \n",
    "print('spouse name : ', person['spouse'])\n",
    "# the name of his last child \n",
    "print('name of last child : ', person['children'][-1])\n",
    "# his cat name ?\n",
    "### Write your code down\n",
    "print(person['pets']['cat'])"
   ]
  },
  {
   "cell_type": "code",
   "execution_count": 173,
   "metadata": {},
   "outputs": [
    {
     "name": "stdout",
     "output_type": "stream",
     "text": [
      "aaa :  aaa\n",
      "bbb :  bbb\n"
     ]
    }
   ],
   "source": [
    "# Integers as keys and list-like indexing\n",
    "foo = {42: 'aaa', 2.78: 'bbb', True: 'ccc'}\n",
    "# to print 'aaa'\n",
    "print('aaa : ', foo[42])\n",
    "# to print 'bbb'\n",
    "print('bbb : ', foo[2.78])"
   ]
  },
  {
   "cell_type": "markdown",
   "metadata": {},
   "source": [
    "Accessing keys and values in dicts are done using two methods `.values()` and `.keys()`"
   ]
  },
  {
   "cell_type": "code",
   "execution_count": 174,
   "metadata": {},
   "outputs": [
    {
     "name": "stdout",
     "output_type": "stream",
     "text": [
      "keys are :  dict_keys(['Colorado', 'Boston', 'Minnesota', 'Milwaukee', 'Seattle'])\n",
      "\n",
      "type of keys object is :  <class 'dict_keys'>\n",
      "\n",
      "\n",
      "keys_list :  ['Colorado', 'Boston', 'Minnesota', 'Milwaukee', 'Seattle']\n",
      "\n",
      "keys_list type :  <class 'list'>\n",
      "\n",
      "values are :  dict_values(['Rockies', 'Red Sox', 'Twins', 'Brewers', 'Mariners'])\n",
      "\n",
      "type of values object is :  <class 'dict_values'>\n",
      "\n",
      "\n",
      "values_list :  ['Rockies', 'Red Sox', 'Twins', 'Brewers', 'Mariners']\n",
      "\n",
      "the type of values_list :  <class 'list'>\n",
      "\n"
     ]
    }
   ],
   "source": [
    "MLB_team = {\n",
    "'Colorado' : 'Rockies',\n",
    "'Boston'   : 'Red Sox',\n",
    "'Minnesota': 'Twins',\n",
    "'Milwaukee': 'Brewers',\n",
    "'Seattle'  : 'Mariners'\n",
    " }\n",
    "\n",
    "# to access the keys of MLB_team\n",
    "print('keys are : ', MLB_team.keys())\n",
    "print()\n",
    "# What is the type of .keys object \n",
    "print ('type of keys object is : ', type(MLB_team.keys()))\n",
    "print()\n",
    "# this can be easily converted to list \n",
    "keys_list = list(MLB_team)\n",
    "print()\n",
    "# Let's check \n",
    "print('keys_list : ', keys_list)\n",
    "print()\n",
    "# Check the type \n",
    "print('keys_list type : ',type(keys_list))\n",
    "print()\n",
    "# to access the values of MLB_team\n",
    "print('values are : ', MLB_team.values())\n",
    "print()\n",
    "# the type of .values object\n",
    "print('type of values object is : ', type(MLB_team.values()))\n",
    "print()\n",
    "# Let's convert it to list \n",
    "values_list = list(MLB_team.values())\n",
    "print()\n",
    "# Check the list \n",
    "print('values_list : ', values_list)\n",
    "print()\n",
    "# check the type\n",
    "print('the type of values_list : ', type(values_list))\n",
    "print()"
   ]
  },
  {
   "cell_type": "markdown",
   "metadata": {},
   "source": [
    "The idea of merging two lists into one dict is very familiar and common in the data analysis tasks. For sure, the two lists needs two be of the same length. `zip()` function can help in this task. Let's see the following example."
   ]
  },
  {
   "cell_type": "code",
   "execution_count": 175,
   "metadata": {},
   "outputs": [
    {
     "name": "stdout",
     "output_type": "stream",
     "text": [
      "zipped_object :  <zip object at 0x000002A8D541A6C0>\n",
      "List from object :  [('Manjeet', 40), ('Nikhil', 50), ('Shambhavi', 60), ('Astha', 70)]\n",
      "name_zipped :  ('Manjeet', 'Nikhil', 'Shambhavi', 'Astha')\n",
      "marks_zipped :  (40, 50, 60, 70)\n"
     ]
    }
   ],
   "source": [
    "# Can we construct a dict from two lists ?!\n",
    "# Let's talk about zip method \n",
    "\"\"\"\n",
    "zip :  map the similar index of multiple containers\n",
    "       so that they can be used just using as single entity.\n",
    "\"\"\"\n",
    "# Python code to demonstrate the working of \n",
    "# zip() \n",
    "\n",
    "# initializing lists \n",
    "name = [ \"Manjeet\", \"Nikhil\", \"Shambhavi\", \"Astha\" ] \n",
    "marks = [ 40, 50, 60, 70 ] \n",
    "\n",
    "# using zip() to map values \n",
    "mapped = zip(name, marks) \n",
    "\n",
    "# Let's print the zipped object \n",
    "print('zipped_object : ', mapped)           # zipped object cannot be printed\n",
    "\n",
    "# converting values to print as list \n",
    "mapped_converted = list(mapped) \n",
    "\n",
    "# printing resultant values \n",
    "print ('List from object : ', mapped_converted) \n",
    "\n",
    "# How to unzip 'mapped_converted'\n",
    "name_zipped, marks_zipped = zip(*mapped_converted)\n",
    "\n",
    "# name_zipped \n",
    "print('name_zipped : ', name_zipped)\n",
    "\n",
    "# marks_zipped \n",
    "print('marks_zipped : ', marks_zipped)"
   ]
  },
  {
   "cell_type": "markdown",
   "metadata": {},
   "source": [
    "A lot of ideas between lists and dicts can be acheived using `.keys()`, `.values()`, and `zip()` fucntions. The simplest one is dict reversion which means converting keys to values and vice versa. The importance of such operations will rise in future topics.\n",
    "\n",
    "Let's see the following example: "
   ]
  },
  {
   "cell_type": "code",
   "execution_count": 176,
   "metadata": {
    "tags": []
   },
   "outputs": [
    {
     "name": "stdout",
     "output_type": "stream",
     "text": [
      "MLB_team :  {'Colorado': 'Rockies', 'Boston': 'Red Sox', 'Minnesota': 'Twins', 'Milwaukee': 'Brewers', 'Seattle': 'Mariners'}\n",
      "new_MLB_team :  {'Colorado': 'Rockies', 'Boston': 'Red Sox', 'Minnesota': 'Twins', 'Milwaukee': 'Brewers', 'Seattle': 'Mariners'}\n",
      "True if same :  True\n",
      "{'Rockies': 'Colorado', 'Red Sox': 'Boston', 'Twins': 'Minnesota', 'Brewers': 'Milwaukee', 'Mariners': 'Seattle'}\n"
     ]
    }
   ],
   "source": [
    "# How to use this concept to create dict from lists\n",
    "# Calling MLB_team dict \n",
    "print('MLB_team : ', MLB_team)\n",
    "\n",
    "# combining keys, values and zip to create a dict \n",
    "new_MLB_team = dict(zip(list(MLB_team.keys()) , list(MLB_team.values()) ))\n",
    "\n",
    "# check the new dict contents\n",
    "print('new_MLB_team : ', new_MLB_team)\n",
    "\n",
    "# check if the new and old dict are the same\n",
    "print('True if same : ', MLB_team == new_MLB_team)\n",
    "\n",
    "# Use the same concept to create reversed version of MLB_team \n",
    "# keys of the old one in place of the values of the new one \n",
    "# and vice-versa\n",
    "\n",
    "reversed_MLB_team = dict(zip(list(MLB_team.values()), list(MLB_team.keys())  )) # write your own code\n",
    "\n",
    "print(reversed_MLB_team)"
   ]
  },
  {
   "cell_type": "markdown",
   "metadata": {},
   "source": [
    "There are some methods associated with dicts such as:\n",
    "\n",
    "- Operators with dicts.\n",
    "- `clear()`\n",
    "- `get()`\n",
    "\n",
    "Let's see some few examples."
   ]
  },
  {
   "cell_type": "code",
   "execution_count": 177,
   "metadata": {},
   "outputs": [
    {
     "name": "stdout",
     "output_type": "stream",
     "text": [
      "Is 'Colorado' in MLB_team? :  True\n",
      "Is 'Cairo' in MLB_team? :  False\n",
      "contents of MLB_team after clear :  {'Colorado': 'Rockies', 'Boston': 'Red Sox', 'Minnesota': 'Twins', 'Milwaukee': 'Brewers', 'Seattle': 'Mariners'}\n",
      "The value of 'Boston' [get method]:  Red Sox\n",
      "The value of 'Cairo' [get method] :  None\n",
      "The value of 'Boston' [by key] :  Red Sox\n"
     ]
    },
    {
     "ename": "KeyError",
     "evalue": "'Cairo'",
     "output_type": "error",
     "traceback": [
      "\u001b[1;31m---------------------------------------------------------------------------\u001b[0m",
      "\u001b[1;31mKeyError\u001b[0m                                  Traceback (most recent call last)",
      "Input \u001b[1;32mIn [177]\u001b[0m, in \u001b[0;36m<cell line: 15>\u001b[1;34m()\u001b[0m\n\u001b[0;32m     12\u001b[0m \u001b[38;5;66;03m# The difference between getting the value of a specific key by get() method and just calling the key is that\u001b[39;00m\n\u001b[0;32m     13\u001b[0m \u001b[38;5;66;03m# calling a not existing key will throw an error\u001b[39;00m\n\u001b[0;32m     14\u001b[0m \u001b[38;5;28mprint\u001b[39m(\u001b[38;5;124m\"\u001b[39m\u001b[38;5;124mThe value of \u001b[39m\u001b[38;5;124m'\u001b[39m\u001b[38;5;124mBoston\u001b[39m\u001b[38;5;124m'\u001b[39m\u001b[38;5;124m [by key] : \u001b[39m\u001b[38;5;124m\"\u001b[39m, new_MLB_team[\u001b[38;5;124m'\u001b[39m\u001b[38;5;124mBoston\u001b[39m\u001b[38;5;124m'\u001b[39m])\n\u001b[1;32m---> 15\u001b[0m \u001b[38;5;28mprint\u001b[39m(\u001b[38;5;124m\"\u001b[39m\u001b[38;5;124mThe value of \u001b[39m\u001b[38;5;124m'\u001b[39m\u001b[38;5;124mCairo\u001b[39m\u001b[38;5;124m'\u001b[39m\u001b[38;5;124m [by key] : \u001b[39m\u001b[38;5;124m\"\u001b[39m, \u001b[43mnew_MLB_team\u001b[49m\u001b[43m[\u001b[49m\u001b[38;5;124;43m'\u001b[39;49m\u001b[38;5;124;43mCairo\u001b[39;49m\u001b[38;5;124;43m'\u001b[39;49m\u001b[43m]\u001b[49m)\n",
      "\u001b[1;31mKeyError\u001b[0m: 'Cairo'"
     ]
    }
   ],
   "source": [
    "# Operators with dicts\n",
    "print(\"Is 'Colorado' in MLB_team? : \", 'Colorado' in MLB_team) #NOTE : it searches only in the keys\n",
    "print(\"Is 'Cairo' in MLB_team? : \", 'Cairo' in MLB_team)\n",
    "\n",
    "# clear() method --> empties the dict\n",
    "# MLB_team.clear()\n",
    "print('contents of MLB_team after clear : ', MLB_team)\n",
    "\n",
    "# get() method --> gets the value of a specific key\n",
    "print(\"The value of 'Boston' [get method]: \", new_MLB_team.get('Boston'))\n",
    "print(\"The value of 'Cairo' [get method] : \", new_MLB_team.get('Cairo'))\n",
    "# The difference between getting the value of a specific key by get() method and just calling the key is that\n",
    "# calling a not existing key will throw an error\n",
    "print(\"The value of 'Boston' [by key] : \", new_MLB_team['Boston'])\n",
    "print(\"The value of 'Cairo' [by key] : \", new_MLB_team['Cairo'])"
   ]
  },
  {
   "cell_type": "code",
   "execution_count": 178,
   "metadata": {},
   "outputs": [
    {
     "name": "stdout",
     "output_type": "stream",
     "text": [
      "The value of 'Rockies' :  Rockies\n",
      "\n",
      "new_MLB_team :  {'Boston': 'Red Sox', 'Minnesota': 'Twins', 'Milwaukee': 'Brewers', 'Seattle': 'Mariners'}\n"
     ]
    }
   ],
   "source": [
    "# pop() method --> returns the value associated with a specific key and then removes it\n",
    "\n",
    "print(\"The value of 'Rockies' : \", new_MLB_team.pop('Colorado'))\n",
    "print()\n",
    "# Check the contents of new_MLB_team again\n",
    "print('new_MLB_team : ', new_MLB_team)"
   ]
  },
  {
   "cell_type": "code",
   "execution_count": 179,
   "metadata": {},
   "outputs": [
    {
     "name": "stdout",
     "output_type": "stream",
     "text": [
      "The new contents of d1 :  {'a': 10, 'b': 200, 'c': 30, 'd': 400}\n"
     ]
    }
   ],
   "source": [
    "# update() method --> merges two dicts with each other without repeating the keys.\n",
    "d1 = {'a': 10, 'b': 20, 'c': 30}\n",
    "d2 = {'b': 200, 'd': 400}\n",
    "\n",
    "d1.update(d2)\n",
    "print('The new contents of d1 : ', d1)"
   ]
  },
  {
   "cell_type": "markdown",
   "metadata": {},
   "source": [
    "#### Tuples\n",
    "\n",
    "Tuples can, as lists, support storing multiple items in a single object. They are orderd, immutable, and allow-duplicates objects. \n",
    "\n",
    "Tuples are much like lists except they are unchangeable. Let's create our first tuples!\n"
   ]
  },
  {
   "cell_type": "code",
   "execution_count": 180,
   "metadata": {},
   "outputs": [
    {
     "name": "stdout",
     "output_type": "stream",
     "text": [
      "('data', 'is', 'everywhere')\n",
      "<class 'tuple'>\n",
      "3\n"
     ]
    }
   ],
   "source": [
    "mytuple = ('data', 'is', 'everywhere')\n",
    "print(mytuple)\n",
    "print(type(mytuple))\n",
    "print(len(mytuple))"
   ]
  },
  {
   "cell_type": "markdown",
   "metadata": {},
   "source": [
    "Tuples can allow different datatypes for items!"
   ]
  },
  {
   "cell_type": "code",
   "execution_count": 181,
   "metadata": {},
   "outputs": [
    {
     "name": "stdout",
     "output_type": "stream",
     "text": [
      "(1, True, 'Python is fun')\n"
     ]
    }
   ],
   "source": [
    "mytuple_1 = (1, True, 'Python is fun')\n",
    "print(mytuple_1)"
   ]
  },
  {
   "cell_type": "markdown",
   "metadata": {},
   "source": [
    "Let's check if they are allowing duplicates. "
   ]
  },
  {
   "cell_type": "code",
   "execution_count": 182,
   "metadata": {},
   "outputs": [
    {
     "name": "stdout",
     "output_type": "stream",
     "text": [
      "('apple', 'apple', 1, 3, 3, 7)\n"
     ]
    }
   ],
   "source": [
    "mytuple_2 = ('apple', 'apple', 1, 3, 3, 7)\n",
    "print(mytuple_2)"
   ]
  },
  {
   "cell_type": "markdown",
   "metadata": {},
   "source": [
    "The last similarity of tuples with lists is indexing!"
   ]
  },
  {
   "cell_type": "code",
   "execution_count": 183,
   "metadata": {},
   "outputs": [
    {
     "name": "stdout",
     "output_type": "stream",
     "text": [
      "('data', 'is', 'everywhere')\n",
      "data\n",
      "everywhere\n"
     ]
    }
   ],
   "source": [
    "print(mytuple)\n",
    "print(mytuple[0])\n",
    "print(mytuple[-1])"
   ]
  },
  {
   "cell_type": "markdown",
   "metadata": {},
   "source": [
    "While working on an analysis task, you will definitly need to convert from dicts to lists or tuples. That's mainly because the mutability restrictions as for example, lists are easy to be modified while dicts are not (You have to know the keys in advance).\n",
    "\n",
    "\n",
    "For those reasons, there are some methods like `.items()` which is used to convert dict into a list of tuples!"
   ]
  },
  {
   "cell_type": "code",
   "execution_count": 184,
   "metadata": {},
   "outputs": [
    {
     "name": "stdout",
     "output_type": "stream",
     "text": [
      "new_MLB_team items :  dict_items([('Boston', 'Red Sox'), ('Minnesota', 'Twins'), ('Milwaukee', 'Brewers'), ('Seattle', 'Mariners')])\n",
      "\n",
      "list_of_tuples contents :  [('Boston', 'Red Sox'), ('Minnesota', 'Twins'), ('Milwaukee', 'Brewers'), ('Seattle', 'Mariners')]\n",
      "\n",
      "type of list_of_tuples :  <class 'list'>\n",
      "\n",
      "'Twins' out of list_of_tuples :  Brewers\n"
     ]
    }
   ],
   "source": [
    "# items() method --> returns the key value pairs as a tuple\n",
    "print('new_MLB_team items : ', new_MLB_team.items())\n",
    "print()\n",
    "# we can easily convert any dict to a list of tuples to enable list-like indexing\n",
    "list_of_tuples = list(new_MLB_team.items())\n",
    "print('list_of_tuples contents : ', list_of_tuples)\n",
    "print()\n",
    "print('type of list_of_tuples : ', type(list_of_tuples))\n",
    "print()\n",
    "# try list-like indexing \n",
    "print(\"'Twins' out of list_of_tuples : \", list_of_tuples[2][1])\n"
   ]
  },
  {
   "cell_type": "markdown",
   "metadata": {},
   "source": [
    "#### Sets\n",
    "\n",
    "Sets are like any other python object, used to combine items in a single object. Sets are like lists in some aspects but they are mainly unordered, unindexed, immutable, and don't allow python object. "
   ]
  },
  {
   "cell_type": "code",
   "execution_count": 185,
   "metadata": {},
   "outputs": [
    {
     "name": "stdout",
     "output_type": "stream",
     "text": [
      "{1, 2, 3}\n",
      "<class 'set'>\n",
      "{1.0, 'Hello', (1, 2, 3)}\n",
      "<class 'set'>\n"
     ]
    }
   ],
   "source": [
    "# set of integers\n",
    "myset = {1, 2, 3}\n",
    "print(myset)\n",
    "print(type(myset))\n",
    "\n",
    "# set of mixed datatypes\n",
    "myset_2 = {1.0, \"Hello\", (1, 2, 3)}\n",
    "print(myset_2)\n",
    "print(type(myset_2))"
   ]
  },
  {
   "cell_type": "code",
   "execution_count": 186,
   "metadata": {},
   "outputs": [
    {
     "name": "stdout",
     "output_type": "stream",
     "text": [
      "{1, 2, 3, 4}\n",
      "{1, 2, 3}\n"
     ]
    },
    {
     "ename": "TypeError",
     "evalue": "unhashable type: 'list'",
     "output_type": "error",
     "traceback": [
      "\u001b[1;31m---------------------------------------------------------------------------\u001b[0m",
      "\u001b[1;31mTypeError\u001b[0m                                 Traceback (most recent call last)",
      "Input \u001b[1;32mIn [186]\u001b[0m, in \u001b[0;36m<cell line: 14>\u001b[1;34m()\u001b[0m\n\u001b[0;32m      9\u001b[0m \u001b[38;5;28mprint\u001b[39m(myset_4)\n\u001b[0;32m     12\u001b[0m \u001b[38;5;66;03m# set cannot have mutable items\u001b[39;00m\n\u001b[0;32m     13\u001b[0m \u001b[38;5;66;03m# here [3, 4] is a mutable list\u001b[39;00m\n\u001b[1;32m---> 14\u001b[0m myset_5 \u001b[38;5;241m=\u001b[39m {\u001b[38;5;241m1\u001b[39m, \u001b[38;5;241m2\u001b[39m, [\u001b[38;5;241m3\u001b[39m, \u001b[38;5;241m4\u001b[39m]}\n\u001b[0;32m     15\u001b[0m \u001b[38;5;28mprint\u001b[39m(myset_5)\n",
      "\u001b[1;31mTypeError\u001b[0m: unhashable type: 'list'"
     ]
    }
   ],
   "source": [
    "# set do not have duplicates\n",
    "Output: {1, 2, 3, 4}\n",
    "myset_3 = {1,2,3,4,3,2}\n",
    "print(myset_3)\n",
    "\n",
    "# we can make set from a list\n",
    "# Output: {1, 2, 3}\n",
    "myset_4 = set([1,2,3,2])\n",
    "print(myset_4)\n",
    "\n",
    "\n",
    "# set cannot have mutable items\n",
    "# here [3, 4] is a mutable list\n",
    "myset_5 = {1, 2, [3, 4]}\n",
    "print(myset_5)\n",
    "\n"
   ]
  },
  {
   "cell_type": "markdown",
   "metadata": {},
   "source": [
    "How to create an empty set? and how it differs from a creating an empty dict? "
   ]
  },
  {
   "cell_type": "code",
   "execution_count": 187,
   "metadata": {},
   "outputs": [
    {
     "name": "stdout",
     "output_type": "stream",
     "text": [
      "<class 'dict'>\n",
      "<class 'set'>\n"
     ]
    }
   ],
   "source": [
    "# initialize a with {}\n",
    "a = {}\n",
    "\n",
    "# check data type of a\n",
    "# Output: <class 'dict'>\n",
    "print(type(a))\n",
    "\n",
    "# initialize a with set()\n",
    "a = set()\n",
    "\n",
    "# check data type of a\n",
    "# Output: <class 'set'>\n",
    "print(type(a))"
   ]
  },
  {
   "cell_type": "markdown",
   "metadata": {},
   "source": [
    "Sets are NOT indexed, unlike lists!"
   ]
  },
  {
   "cell_type": "code",
   "execution_count": 188,
   "metadata": {},
   "outputs": [
    {
     "name": "stdout",
     "output_type": "stream",
     "text": [
      "{1, 3}\n",
      "{1, 2, 3}\n",
      "{1, 2, 3, 4}\n",
      "{1, 2, 3, 4, 5, 6, 8}\n"
     ]
    },
    {
     "ename": "TypeError",
     "evalue": "'set' object is not subscriptable",
     "output_type": "error",
     "traceback": [
      "\u001b[1;31m---------------------------------------------------------------------------\u001b[0m",
      "\u001b[1;31mTypeError\u001b[0m                                 Traceback (most recent call last)",
      "Input \u001b[1;32mIn [188]\u001b[0m, in \u001b[0;36m<cell line: 26>\u001b[1;34m()\u001b[0m\n\u001b[0;32m     19\u001b[0m \u001b[38;5;28mprint\u001b[39m(my_set)\n\u001b[0;32m     22\u001b[0m \u001b[38;5;66;03m# if you uncomment my_set[0] line ,\u001b[39;00m\n\u001b[0;32m     23\u001b[0m \u001b[38;5;66;03m# you will get an error\u001b[39;00m\n\u001b[0;32m     24\u001b[0m \u001b[38;5;66;03m# TypeError: 'set' object does not support indexing\u001b[39;00m\n\u001b[1;32m---> 26\u001b[0m \u001b[43mmy_set\u001b[49m\u001b[43m[\u001b[49m\u001b[38;5;241;43m0\u001b[39;49m\u001b[43m]\u001b[49m\n",
      "\u001b[1;31mTypeError\u001b[0m: 'set' object is not subscriptable"
     ]
    }
   ],
   "source": [
    "# initialize my_set\n",
    "my_set = {1,3}\n",
    "print(my_set)\n",
    "\n",
    "\n",
    "# add an element\n",
    "# Output: {1, 2, 3}\n",
    "my_set.add(2)\n",
    "print(my_set)\n",
    "\n",
    "# add multiple elements\n",
    "# Output: {1, 2, 3, 4}\n",
    "my_set.update([2,3,4])\n",
    "print(my_set)\n",
    "\n",
    "# add list and set\n",
    "# Output: {1, 2, 3, 4, 5, 6, 8}\n",
    "my_set.update([4,5], {1,6,8})\n",
    "print(my_set)\n",
    "\n",
    "\n",
    "# if you uncomment my_set[0] line ,\n",
    "# you will get an error\n",
    "# TypeError: 'set' object does not support indexing\n",
    "\n",
    "my_set[0]"
   ]
  },
  {
   "cell_type": "markdown",
   "metadata": {},
   "source": [
    "How to delete an item from a set? \n",
    "\n",
    "Both `discard()` and `remove()` method are used for deleting items of a set. The only difference between the two is that, while using `discard()` if the item does not exist in the set, it remains unchanged. But `remove()` will raise an error in such condition.\n"
   ]
  },
  {
   "cell_type": "code",
   "execution_count": 189,
   "metadata": {},
   "outputs": [
    {
     "name": "stdout",
     "output_type": "stream",
     "text": [
      "{1, 3, 4, 5, 6}\n",
      "{1, 3, 5, 6}\n",
      "{1, 3, 5}\n",
      "{1, 3, 5}\n"
     ]
    },
    {
     "ename": "KeyError",
     "evalue": "2",
     "output_type": "error",
     "traceback": [
      "\u001b[1;31m---------------------------------------------------------------------------\u001b[0m",
      "\u001b[1;31mKeyError\u001b[0m                                  Traceback (most recent call last)",
      "Input \u001b[1;32mIn [189]\u001b[0m, in \u001b[0;36m<cell line: 27>\u001b[1;34m()\u001b[0m\n\u001b[0;32m     19\u001b[0m \u001b[38;5;28mprint\u001b[39m(my_set)\n\u001b[0;32m     21\u001b[0m \u001b[38;5;66;03m# remove an element\u001b[39;00m\n\u001b[0;32m     22\u001b[0m \u001b[38;5;66;03m# not present in my_set\u001b[39;00m\n\u001b[0;32m     23\u001b[0m \u001b[38;5;66;03m# If you uncomment my_set.remove line,\u001b[39;00m\n\u001b[0;32m     24\u001b[0m \u001b[38;5;66;03m# you will get an error.\u001b[39;00m\n\u001b[0;32m     25\u001b[0m \u001b[38;5;66;03m# Output: KeyError: 2\u001b[39;00m\n\u001b[1;32m---> 27\u001b[0m \u001b[43mmy_set\u001b[49m\u001b[38;5;241;43m.\u001b[39;49m\u001b[43mremove\u001b[49m\u001b[43m(\u001b[49m\u001b[38;5;241;43m2\u001b[39;49m\u001b[43m)\u001b[49m\n",
      "\u001b[1;31mKeyError\u001b[0m: 2"
     ]
    }
   ],
   "source": [
    "# initialize my_set\n",
    "my_set = {1, 3, 4, 5, 6}\n",
    "print(my_set)\n",
    "\n",
    "# discard an element\n",
    "# Output: {1, 3, 5, 6}\n",
    "my_set.discard(4)\n",
    "print(my_set)\n",
    "\n",
    "# remove an element\n",
    "# Output: {1, 3, 5}\n",
    "my_set.remove(6)\n",
    "print(my_set)\n",
    "\n",
    "# discard an element\n",
    "# not present in my_set\n",
    "# Output: {1, 3, 5}\n",
    "my_set.discard(2)\n",
    "print(my_set)\n",
    "\n",
    "# remove an element\n",
    "# not present in my_set\n",
    "# If you uncomment my_set.remove line,\n",
    "# you will get an error.\n",
    "# Output: KeyError: 2\n",
    "\n",
    "my_set.remove(2)"
   ]
  },
  {
   "cell_type": "markdown",
   "metadata": {},
   "source": [
    "The beauty of `Sets` is getting brighter when used with function such as `union()` and `insersion()`."
   ]
  },
  {
   "cell_type": "code",
   "execution_count": 190,
   "metadata": {},
   "outputs": [
    {
     "name": "stdout",
     "output_type": "stream",
     "text": [
      "{1, 2, 3, 4, 5, 6, 7, 8}\n"
     ]
    }
   ],
   "source": [
    "# union() method or | operator --> finds the union between two sets\n",
    "\n",
    "# initialize A and B\n",
    "A = {1, 2, 3, 4, 5}\n",
    "B = {4, 5, 6, 7, 8}\n",
    "\n",
    "# use | operator\n",
    "# Output: {1, 2, 3, 4, 5, 6, 7, 8}\n",
    "print(A | B)"
   ]
  },
  {
   "cell_type": "code",
   "execution_count": 191,
   "metadata": {},
   "outputs": [
    {
     "name": "stdout",
     "output_type": "stream",
     "text": [
      "{1, 2, 3, 4, 5, 6, 7, 8}\n",
      "{1, 2, 3, 4, 5}\n",
      "{1, 2, 3, 4, 5, 6, 7, 8}\n"
     ]
    }
   ],
   "source": [
    "# to update A or B\n",
    "\n",
    "# use union function\n",
    "print(A.union(B))\n",
    "# {1, 2, 3, 4, 5, 6, 7, 8}\n",
    "print(A) # the elements of A will not be changed\n",
    "# use union function on B\n",
    "print(B.union(A))\n",
    "# {1, 2, 3, 4, 5, 6, 7, 8}"
   ]
  },
  {
   "cell_type": "code",
   "execution_count": 192,
   "metadata": {},
   "outputs": [
    {
     "name": "stdout",
     "output_type": "stream",
     "text": [
      "{4, 5}\n"
     ]
    }
   ],
   "source": [
    "# insersion() method or & operator\n",
    "\n",
    "# initialize A and B\n",
    "A = {1, 2, 3, 4, 5}\n",
    "B = {4, 5, 6, 7, 8}\n",
    "\n",
    "# use & operator\n",
    "# Output: {4, 5}\n",
    "print(A & B)"
   ]
  },
  {
   "cell_type": "code",
   "execution_count": 193,
   "metadata": {},
   "outputs": [
    {
     "name": "stdout",
     "output_type": "stream",
     "text": [
      "{4, 5}\n",
      "{4, 5}\n"
     ]
    }
   ],
   "source": [
    "# use intersection function on A\n",
    "print(A.intersection(B))\n",
    "# {4, 5}\n",
    "# use intersection function on B\n",
    "print(B.intersection(A))\n",
    "# {4, 5}"
   ]
  }
 ],
 "metadata": {
  "kernelspec": {
   "display_name": "ml",
   "language": "python",
   "name": "ml"
  },
  "language_info": {
   "codemirror_mode": {
    "name": "ipython",
    "version": 3
   },
   "file_extension": ".py",
   "mimetype": "text/x-python",
   "name": "python",
   "nbconvert_exporter": "python",
   "pygments_lexer": "ipython3",
   "version": "3.8.13"
  }
 },
 "nbformat": 4,
 "nbformat_minor": 4
}
