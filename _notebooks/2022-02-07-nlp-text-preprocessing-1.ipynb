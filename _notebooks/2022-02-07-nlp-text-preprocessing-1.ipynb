{
 "cells": [
  {
   "cell_type": "markdown",
   "id": "2ac7bc94-1e22-4c09-8918-105375dd7657",
   "metadata": {},
   "source": [
    "# Text Preprocessing | NLP 1\n",
    "> In this tutorial, I tried to demonstrate the basic concepts of `preprocessing` for natural text starting from `stopwords removal`, `lowering`, and `lemmetization`. \n",
    "\n",
    "- toc:true\n",
    "- branch: master\n",
    "- badges: true\n",
    "- comments: true\n",
    "- author: Ahmed Abulkhair\n",
    "- categories: [Machine Learning, NLP, NLTK]\n",
    "- image: images/nlp1.png"
   ]
  },
  {
   "cell_type": "markdown",
   "id": "7a1d9577",
   "metadata": {
    "_cell_guid": "ee599bd8-ac6d-424f-9fea-766fd316bab0",
    "_uuid": "49d1e23b-2129-4990-a944-30d5896f2c7f",
    "execution": {
     "iopub.execute_input": "2022-02-07T04:47:30.10114Z",
     "iopub.status.busy": "2022-02-07T04:47:30.100774Z",
     "iopub.status.idle": "2022-02-07T04:47:30.135552Z",
     "shell.execute_reply": "2022-02-07T04:47:30.134618Z",
     "shell.execute_reply.started": "2022-02-07T04:47:30.101042Z"
    },
    "jupyter": {
     "outputs_hidden": false
    },
    "papermill": {
     "duration": 0.026513,
     "end_time": "2022-02-07T21:05:02.998033",
     "exception": false,
     "start_time": "2022-02-07T21:05:02.971520",
     "status": "completed"
    },
    "tags": []
   },
   "source": [
    "# Introduction\n",
    "When dealing with text data with Machine Learning models. There's a huge and simple problem! Which is, \n",
    "#### _Algorithms can not comprehend text, only numbers!_\n",
    "\n",
    "So, is it all about converting text into numbers? Of course, not! The natural language is a very senstive and expressive type of data which means alot of expressions and desires can be hidden in a piece of text an numbers are less likely to demonestrate that! Numbers can reveal very little information when comparing to the natural text. so, it this set of tutorials, we will try to handle most of the `preprocessing` techniques. Strating from the very basic (like what we will do in this tutorial) ending up with very complex."
   ]
  },
  {
   "cell_type": "markdown",
   "id": "1b6df4af",
   "metadata": {
    "papermill": {
     "duration": 0.024933,
     "end_time": "2022-02-07T21:05:03.048760",
     "exception": false,
     "start_time": "2022-02-07T21:05:03.023827",
     "status": "completed"
    },
    "tags": []
   },
   "source": [
    "## Setup\n",
    "\n",
    "We will be using the [Natural Language Toolkit (NLTK)](http://www.nltk.org/howto/twitter.html) package and [SpaCy](https://spacy.io/), open-source Python libraries for natural language processing. NLTK has modules for collecting, handling, and processing Twitter data.\n",
    "\n",
    "For this tutorial, we will use a Twitter dataset that comes with NLTK. This dataset has been manually annotated and serves to establish baselines for models quickly. Let us import them now as well as a few other libraries we will be using."
   ]
  },
  {
   "cell_type": "code",
   "execution_count": 1,
   "id": "11e467eb",
   "metadata": {
    "execution": {
     "iopub.execute_input": "2022-02-07T21:05:03.109056Z",
     "iopub.status.busy": "2022-02-07T21:05:03.107754Z",
     "iopub.status.idle": "2022-02-07T21:05:14.876349Z",
     "shell.execute_reply": "2022-02-07T21:05:14.875633Z",
     "shell.execute_reply.started": "2022-02-07T19:20:20.124605Z"
    },
    "papermill": {
     "duration": 11.802042,
     "end_time": "2022-02-07T21:05:14.876533",
     "exception": false,
     "start_time": "2022-02-07T21:05:03.074491",
     "status": "completed"
    },
    "tags": []
   },
   "outputs": [],
   "source": [
    "import nltk                                # Python library for NLP\n",
    "import spacy                               # Python libray for NLP\n",
    "from nltk.corpus import twitter_samples    # sample Twitter dataset from NLTK\n",
    "import matplotlib.pyplot as plt            # library for visualization\n",
    "import seaborn as sns                      # library for visualization\n",
    "import random                              # pseudo-random number generator"
   ]
  },
  {
   "cell_type": "markdown",
   "id": "3888715d",
   "metadata": {
    "papermill": {
     "duration": 0.02427,
     "end_time": "2022-02-07T21:05:14.924717",
     "exception": false,
     "start_time": "2022-02-07T21:05:14.900447",
     "status": "completed"
    },
    "tags": []
   },
   "source": [
    "## About the Twitter dataset\n",
    "\n",
    "The sample dataset from NLTK is separated into positive and negative tweets. It contains 5000 positive tweets and 5000 negative tweets exactly. The exact match between these classes is not a coincidence. The intention is to have a balanced dataset. That does not reflect the real distributions of positive and negative classes in live Twitter streams. It is just because balanced datasets simplify the design of most computational methods that are required for sentiment analysis. However, it is better to be aware that this balance of classes is artificial. \n",
    "\n",
    "You can download the dataset in your workspace by doing:"
   ]
  },
  {
   "cell_type": "code",
   "execution_count": 2,
   "id": "b05a3a5e",
   "metadata": {
    "execution": {
     "iopub.execute_input": "2022-02-07T21:05:14.976457Z",
     "iopub.status.busy": "2022-02-07T21:05:14.975791Z",
     "iopub.status.idle": "2022-02-07T21:05:15.194150Z",
     "shell.execute_reply": "2022-02-07T21:05:15.194676Z",
     "shell.execute_reply.started": "2022-02-07T19:20:31.946114Z"
    },
    "papermill": {
     "duration": 0.245959,
     "end_time": "2022-02-07T21:05:15.194850",
     "exception": false,
     "start_time": "2022-02-07T21:05:14.948891",
     "status": "completed"
    },
    "tags": []
   },
   "outputs": [
    {
     "name": "stdout",
     "output_type": "stream",
     "text": [
      "[nltk_data] Downloading package twitter_samples to\n",
      "[nltk_data]     /usr/share/nltk_data...\n",
      "[nltk_data]   Package twitter_samples is already up-to-date!\n"
     ]
    },
    {
     "data": {
      "text/plain": [
       "True"
      ]
     },
     "execution_count": 2,
     "metadata": {},
     "output_type": "execute_result"
    }
   ],
   "source": [
    "# downloads sample twitter dataset.\n",
    "nltk.download('twitter_samples')"
   ]
  },
  {
   "cell_type": "markdown",
   "id": "58f4fa18",
   "metadata": {
    "papermill": {
     "duration": 0.024778,
     "end_time": "2022-02-07T21:05:15.244298",
     "exception": false,
     "start_time": "2022-02-07T21:05:15.219520",
     "status": "completed"
    },
    "tags": []
   },
   "source": [
    "We can load the text fields of the positive and negative tweets by using the module's `strings()` method like this:"
   ]
  },
  {
   "cell_type": "code",
   "execution_count": 3,
   "id": "c6a7ef9c",
   "metadata": {
    "execution": {
     "iopub.execute_input": "2022-02-07T21:05:15.301600Z",
     "iopub.status.busy": "2022-02-07T21:05:15.300825Z",
     "iopub.status.idle": "2022-02-07T21:05:16.256629Z",
     "shell.execute_reply": "2022-02-07T21:05:16.256038Z",
     "shell.execute_reply.started": "2022-02-07T19:20:32.167563Z"
    },
    "papermill": {
     "duration": 0.987154,
     "end_time": "2022-02-07T21:05:16.256783",
     "exception": false,
     "start_time": "2022-02-07T21:05:15.269629",
     "status": "completed"
    },
    "tags": []
   },
   "outputs": [],
   "source": [
    "# select the set of positive and negative tweets\n",
    "all_positive_tweets = twitter_samples.strings('positive_tweets.json')\n",
    "all_negative_tweets = twitter_samples.strings('negative_tweets.json')"
   ]
  },
  {
   "cell_type": "markdown",
   "id": "97031c5a",
   "metadata": {
    "papermill": {
     "duration": 0.025812,
     "end_time": "2022-02-07T21:05:16.309221",
     "exception": false,
     "start_time": "2022-02-07T21:05:16.283409",
     "status": "completed"
    },
    "tags": []
   },
   "source": [
    "Next, we'll print a report with the number of positive and negative tweets. It is also essential to know the data structure of the datasets"
   ]
  },
  {
   "cell_type": "code",
   "execution_count": 4,
   "id": "6a5a037b",
   "metadata": {
    "execution": {
     "iopub.execute_input": "2022-02-07T21:05:16.367500Z",
     "iopub.status.busy": "2022-02-07T21:05:16.366727Z",
     "iopub.status.idle": "2022-02-07T21:05:16.369953Z",
     "shell.execute_reply": "2022-02-07T21:05:16.370817Z",
     "shell.execute_reply.started": "2022-02-07T19:20:33.126662Z"
    },
    "papermill": {
     "duration": 0.035648,
     "end_time": "2022-02-07T21:05:16.371083",
     "exception": false,
     "start_time": "2022-02-07T21:05:16.335435",
     "status": "completed"
    },
    "tags": []
   },
   "outputs": [
    {
     "name": "stdout",
     "output_type": "stream",
     "text": [
      "Number of positive tweets:  5000\n",
      "Number of negative tweets:  5000\n",
      "\n",
      "The type of all_positive_tweets is:  <class 'list'>\n",
      "The type of a tweet entry is:  <class 'str'>\n"
     ]
    }
   ],
   "source": [
    "print('Number of positive tweets: ', len(all_positive_tweets))\n",
    "print('Number of negative tweets: ', len(all_negative_tweets))\n",
    "\n",
    "print('\\nThe type of all_positive_tweets is: ', type(all_positive_tweets))\n",
    "print('The type of a tweet entry is: ', type(all_negative_tweets[0]))"
   ]
  },
  {
   "cell_type": "markdown",
   "id": "a215c73b",
   "metadata": {
    "papermill": {
     "duration": 0.025881,
     "end_time": "2022-02-07T21:05:16.422901",
     "exception": false,
     "start_time": "2022-02-07T21:05:16.397020",
     "status": "completed"
    },
    "tags": []
   },
   "source": [
    "Now, lets construct a `pie chart` to point out class distrbution."
   ]
  },
  {
   "cell_type": "code",
   "execution_count": 5,
   "id": "5ff38d1c",
   "metadata": {
    "execution": {
     "iopub.execute_input": "2022-02-07T21:05:16.486539Z",
     "iopub.status.busy": "2022-02-07T21:05:16.480374Z",
     "iopub.status.idle": "2022-02-07T21:05:16.648507Z",
     "shell.execute_reply": "2022-02-07T21:05:16.649494Z",
     "shell.execute_reply.started": "2022-02-07T19:20:33.135510Z"
    },
    "papermill": {
     "duration": 0.201124,
     "end_time": "2022-02-07T21:05:16.649813",
     "exception": false,
     "start_time": "2022-02-07T21:05:16.448689",
     "status": "completed"
    },
    "tags": []
   },
   "outputs": [
    {
     "data": {
      "image/png": "[encoded data removed]",
      "text/plain": [
       "<Figure size 576x576 with 1 Axes>"
      ]
     },
     "metadata": {},
     "output_type": "display_data"
    }
   ],
   "source": [
    "colors = sns.color_palette('pastel')[0:5]\n",
    "\n",
    "#create pie chart\n",
    "plt.figure(figsize=(8,8))\n",
    "plt.pie([len(all_positive_tweets), len(all_negative_tweets)], labels = ['Positive', 'Negative'], colors = colors, autopct='%.0f%%')\n",
    "plt.show()\n"
   ]
  },
  {
   "cell_type": "markdown",
   "id": "3db6626b",
   "metadata": {
    "papermill": {
     "duration": 0.025601,
     "end_time": "2022-02-07T21:05:16.721494",
     "exception": false,
     "start_time": "2022-02-07T21:05:16.695893",
     "status": "completed"
    },
    "tags": []
   },
   "source": [
    "## Looking at raw texts\n",
    "\n",
    "Before anything else, we can print a couple of tweets from the dataset to see how they look. Understanding the data is responsible for 80% of the success or failure in data science projects. We can use this time to observe aspects we'd like to consider when preprocessing our data.\n",
    "\n",
    "Below, you will print one random positive and one random negative tweet. We have added a color mark at the beginning of the string to further distinguish the two. (Warning: This is taken from a public dataset of real tweets and a very small portion has explicit content.)"
   ]
  },
  {
   "cell_type": "code",
   "execution_count": 6,
   "id": "1a8d54da",
   "metadata": {
    "execution": {
     "iopub.execute_input": "2022-02-07T21:05:16.784917Z",
     "iopub.status.busy": "2022-02-07T21:05:16.784258Z",
     "iopub.status.idle": "2022-02-07T21:05:16.786810Z",
     "shell.execute_reply": "2022-02-07T21:05:16.787347Z",
     "shell.execute_reply.started": "2022-02-07T19:20:33.311490Z"
    },
    "papermill": {
     "duration": 0.036824,
     "end_time": "2022-02-07T21:05:16.787540",
     "exception": false,
     "start_time": "2022-02-07T21:05:16.750716",
     "status": "completed"
    },
    "tags": []
   },
   "outputs": [
    {
     "name": "stdout",
     "output_type": "stream",
     "text": [
      "\u001b[92m@PuppyShogun mistakes happen man, as long as we get to play the game, we'll be happy :)\n",
      "\u001b[91m＠maverickgamer_　July 24, 2015 at 07:17PM 　:(\n"
     ]
    }
   ],
   "source": [
    "# print positive in greeen\n",
    "print('\\033[92m' + all_positive_tweets[random.randint(0,5000)])\n",
    "\n",
    "# print negative in red\n",
    "print('\\033[91m' + all_negative_tweets[random.randint(0,5000)])"
   ]
  },
  {
   "cell_type": "markdown",
   "id": "452fb754",
   "metadata": {
    "papermill": {
     "duration": 0.02573,
     "end_time": "2022-02-07T21:05:16.839124",
     "exception": false,
     "start_time": "2022-02-07T21:05:16.813394",
     "status": "completed"
    },
    "tags": []
   },
   "source": [
    "One observation, is the presence of emoticons and URLs in many of the tweets. This info will come in handy in the next steps."
   ]
  },
  {
   "cell_type": "markdown",
   "id": "4dba7dfe",
   "metadata": {
    "papermill": {
     "duration": 0.025664,
     "end_time": "2022-02-07T21:05:16.890932",
     "exception": false,
     "start_time": "2022-02-07T21:05:16.865268",
     "status": "completed"
    },
    "tags": []
   },
   "source": [
    "## Steps of Preprocessing\n",
    "\n",
    "Data preprocessing is one of the critical steps in any machine learning project. It includes cleaning and formatting the data before feeding into a machine learning algorithm. For NLP, the preprocessing steps are comprised of the following tasks:\n",
    "\n",
    "* Removing unnesseary parts (mentions, tags, hashtags, and URLs)\n",
    "* Lowercasing\n",
    "* Removing stop words and punctuation\n",
    "* Tokenizing the string\n",
    "* Stemming and/or lemmetization\n",
    "\n",
    "Besides, the first purpose of preprocessing which is `converting text into numbers`, there's one more important purpose, which is about reducing the redundency of the data size itself. In other words, we want to represent the text features in the most minimal feature space and this will be demonestrated clearly for each step. \n"
   ]
  },
  {
   "cell_type": "markdown",
   "id": "0ab70640",
   "metadata": {
    "papermill": {
     "duration": 0.025579,
     "end_time": "2022-02-07T21:05:16.942886",
     "exception": false,
     "start_time": "2022-02-07T21:05:16.917307",
     "status": "completed"
    },
    "tags": []
   },
   "source": [
    "Let's import some libraries to help us out!"
   ]
  },
  {
   "cell_type": "code",
   "execution_count": 7,
   "id": "97dcffc6",
   "metadata": {
    "execution": {
     "iopub.execute_input": "2022-02-07T21:05:16.998631Z",
     "iopub.status.busy": "2022-02-07T21:05:16.997922Z",
     "iopub.status.idle": "2022-02-07T21:05:17.001902Z",
     "shell.execute_reply": "2022-02-07T21:05:17.002445Z",
     "shell.execute_reply.started": "2022-02-07T19:20:33.323751Z"
    },
    "papermill": {
     "duration": 0.033685,
     "end_time": "2022-02-07T21:05:17.002625",
     "exception": false,
     "start_time": "2022-02-07T21:05:16.968940",
     "status": "completed"
    },
    "tags": []
   },
   "outputs": [],
   "source": [
    "import re                                  # library for regular expression operations\n",
    "import string                              # for string operations\n",
    "import spacy                               # Text processing"
   ]
  },
  {
   "cell_type": "code",
   "execution_count": 8,
   "id": "dfc528b0",
   "metadata": {
    "execution": {
     "iopub.execute_input": "2022-02-07T21:05:17.061901Z",
     "iopub.status.busy": "2022-02-07T21:05:17.061211Z",
     "iopub.status.idle": "2022-02-07T21:05:17.063814Z",
     "shell.execute_reply": "2022-02-07T21:05:17.064323Z",
     "shell.execute_reply.started": "2022-02-07T19:20:33.335340Z"
    },
    "papermill": {
     "duration": 0.035687,
     "end_time": "2022-02-07T21:05:17.064499",
     "exception": false,
     "start_time": "2022-02-07T21:05:17.028812",
     "status": "completed"
    },
    "tags": []
   },
   "outputs": [
    {
     "name": "stdout",
     "output_type": "stream",
     "text": [
      "My beautiful sunflowers on a sunny Friday morning off :) #sunflowers #favourites #happy #Friday off… https://t.co/3tfYom0N1i\n"
     ]
    }
   ],
   "source": [
    "# Our selected sample. Complex enough to exemplify each step\n",
    "tweet = all_positive_tweets[2277]\n",
    "print(tweet)"
   ]
  },
  {
   "cell_type": "markdown",
   "id": "1f687a92",
   "metadata": {
    "papermill": {
     "duration": 0.025812,
     "end_time": "2022-02-07T21:05:17.116610",
     "exception": false,
     "start_time": "2022-02-07T21:05:17.090798",
     "status": "completed"
    },
    "tags": []
   },
   "source": [
    "### Removing unnesseary parts (mentions, tags, hashtags, and URLs)\n",
    "\n",
    "Since we have a Twitter dataset, we'd like to remove some substrings commonly used on the platform like the hashtag, retweet marks, and hyperlinks. We'll use the [re](https://docs.python.org/3/library/re.html) library to perform regular expression operations on our tweet. We'll define our search pattern and use the `sub()` method to remove matches by substituting with an empty character (i.e. `''`)"
   ]
  },
  {
   "cell_type": "code",
   "execution_count": 9,
   "id": "10f51e29",
   "metadata": {
    "execution": {
     "iopub.execute_input": "2022-02-07T21:05:17.176832Z",
     "iopub.status.busy": "2022-02-07T21:05:17.176115Z",
     "iopub.status.idle": "2022-02-07T21:05:17.180224Z",
     "shell.execute_reply": "2022-02-07T21:05:17.180824Z",
     "shell.execute_reply.started": "2022-02-07T19:20:33.351741Z"
    },
    "papermill": {
     "duration": 0.037494,
     "end_time": "2022-02-07T21:05:17.181011",
     "exception": false,
     "start_time": "2022-02-07T21:05:17.143517",
     "status": "completed"
    },
    "tags": []
   },
   "outputs": [
    {
     "name": "stdout",
     "output_type": "stream",
     "text": [
      "My beautiful sunflowers on a sunny Friday morning off :) sunflowers favourites happy Friday off… \n"
     ]
    }
   ],
   "source": [
    "# remove old style retweet text \"RT\"\n",
    "RT_remover = lambda x : re.sub(r'^b\\s([RT]+)?','', x)\n",
    "# remove all URLs\n",
    "URL_remover = lambda x: re.sub(r'http\\S+', '', x)\n",
    "# remove hashtags\n",
    "# only removing the hash # sign from the word\n",
    "Hashtag_remover = lambda x: re.sub(r'#', '', x)\n",
    "\n",
    "# Apply all functions\n",
    "tweet = RT_remover(tweet)\n",
    "tweet = URL_remover(tweet)\n",
    "tweet = Hashtag_remover(tweet)\n",
    "\n",
    "\n",
    "# print final output\n",
    "print(tweet)"
   ]
  },
  {
   "cell_type": "markdown",
   "id": "bde17dd5",
   "metadata": {
    "papermill": {
     "duration": 0.026218,
     "end_time": "2022-02-07T21:05:17.234773",
     "exception": false,
     "start_time": "2022-02-07T21:05:17.208555",
     "status": "completed"
    },
    "tags": []
   },
   "source": [
    "If you need any further info about using and testing regex, you may visit this [website](https://regex101.com/)"
   ]
  },
  {
   "cell_type": "markdown",
   "id": "3ebac87b",
   "metadata": {
    "papermill": {
     "duration": 0.026469,
     "end_time": "2022-02-07T21:05:17.288370",
     "exception": false,
     "start_time": "2022-02-07T21:05:17.261901",
     "status": "completed"
    },
    "tags": []
   },
   "source": [
    "### Lowercasing\n",
    "\n",
    "This step is often done for the sake of `reducing the feature representation space`. \n",
    "\n",
    "For example:\n",
    "    \n",
    "* I love cars! Cars are the most passionate hoppy in the world.\n",
    "\n",
    "> Without `lowercasing`, `cars` and `Cars` with be two different words with two different representation which is not true nor optimal for sure. "
   ]
  },
  {
   "cell_type": "code",
   "execution_count": 10,
   "id": "b5940278",
   "metadata": {
    "execution": {
     "iopub.execute_input": "2022-02-07T21:05:17.346704Z",
     "iopub.status.busy": "2022-02-07T21:05:17.345937Z",
     "iopub.status.idle": "2022-02-07T21:05:17.350601Z",
     "shell.execute_reply": "2022-02-07T21:05:17.351133Z",
     "shell.execute_reply.started": "2022-02-07T19:20:33.367956Z"
    },
    "papermill": {
     "duration": 0.036257,
     "end_time": "2022-02-07T21:05:17.351317",
     "exception": false,
     "start_time": "2022-02-07T21:05:17.315060",
     "status": "completed"
    },
    "tags": []
   },
   "outputs": [
    {
     "name": "stdout",
     "output_type": "stream",
     "text": [
      "my beautiful sunflowers on a sunny friday morning off :) sunflowers favourites happy friday off… \n"
     ]
    }
   ],
   "source": [
    "# Lowercasing function\n",
    "lowercase = lambda x : x.lower()\n",
    "# Apply function\n",
    "tweet = lowercase(tweet)\n",
    "# Print result\n",
    "print(tweet)"
   ]
  },
  {
   "cell_type": "markdown",
   "id": "331c4314",
   "metadata": {
    "papermill": {
     "duration": 0.026793,
     "end_time": "2022-02-07T21:05:17.405434",
     "exception": false,
     "start_time": "2022-02-07T21:05:17.378641",
     "status": "completed"
    },
    "tags": []
   },
   "source": [
    "### Tokenization\n",
    "\n",
    "Although this word seems to be complex but it means a very simple process which is `dividing the natural text into parts`! This will make the process of generating a feature representation much easier.\n",
    "\n",
    "Here, we will divide our natural text into words which are the basic building block of a text. We will be doing that using some built-in functions such as `split()` and `strip()`"
   ]
  },
  {
   "cell_type": "code",
   "execution_count": 11,
   "id": "3c03a430",
   "metadata": {
    "execution": {
     "iopub.execute_input": "2022-02-07T21:05:17.463175Z",
     "iopub.status.busy": "2022-02-07T21:05:17.462419Z",
     "iopub.status.idle": "2022-02-07T21:05:17.469934Z",
     "shell.execute_reply": "2022-02-07T21:05:17.470503Z",
     "shell.execute_reply.started": "2022-02-07T19:20:33.386665Z"
    },
    "papermill": {
     "duration": 0.038219,
     "end_time": "2022-02-07T21:05:17.470690",
     "exception": false,
     "start_time": "2022-02-07T21:05:17.432471",
     "status": "completed"
    },
    "tags": []
   },
   "outputs": [
    {
     "data": {
      "text/plain": [
       "['my',\n",
       " 'beautiful',\n",
       " 'sunflowers',\n",
       " 'on',\n",
       " 'a',\n",
       " 'sunny',\n",
       " 'friday',\n",
       " 'morning',\n",
       " 'off',\n",
       " ':)',\n",
       " 'sunflowers',\n",
       " 'favourites',\n",
       " 'happy',\n",
       " 'friday',\n",
       " 'off…']"
      ]
     },
     "execution_count": 11,
     "metadata": {},
     "output_type": "execute_result"
    }
   ],
   "source": [
    "def tokenize(text) -> str:\n",
    "    \"\"\"\n",
    "    transform text into list of tokens\n",
    "    - param:\n",
    "        - text: input text -> str\n",
    "    - return\n",
    "        - text_tokens: list of tokens\n",
    "    \"\"\"\n",
    "    text = text.strip()\n",
    "    text_tokens = text.split()\n",
    "    return text_tokens\n",
    "\n",
    "# test the function\n",
    "tweet_tokens = tokenize(tweet)\n",
    "tweet_tokens"
   ]
  },
  {
   "cell_type": "markdown",
   "id": "d4d9bbb6",
   "metadata": {
    "papermill": {
     "duration": 0.027199,
     "end_time": "2022-02-07T21:05:17.525839",
     "exception": false,
     "start_time": "2022-02-07T21:05:17.498640",
     "status": "completed"
    },
    "tags": []
   },
   "source": [
    "### Removing stop words and punctuation\n",
    "\n",
    "Stop words and punctuation don't give a lot of meaning in most cases. Let's see an example.\n",
    "\n",
    "`There is a ball on the table. It is huge and colorful!`\n",
    "\n",
    "Lets remove stop words and punctuation and see if we can capture the same meaning.\n",
    "\n",
    "`ball table huge colorful` \n",
    "\n",
    "As you can see, it's much shorter and this will defintly lead to lower feature representation. Some packages have provided lists for the stopwords and punctuation in many languges. In this tutorial, we will be using [SpaCy](https://spacy.io/) and `String` packages. "
   ]
  },
  {
   "cell_type": "code",
   "execution_count": 12,
   "id": "fe0789cc",
   "metadata": {
    "execution": {
     "iopub.execute_input": "2022-02-07T21:05:17.585731Z",
     "iopub.status.busy": "2022-02-07T21:05:17.584857Z",
     "iopub.status.idle": "2022-02-07T21:05:18.456409Z",
     "shell.execute_reply": "2022-02-07T21:05:18.456981Z",
     "shell.execute_reply.started": "2022-02-07T19:20:35.465753Z"
    },
    "papermill": {
     "duration": 0.90259,
     "end_time": "2022-02-07T21:05:18.457189",
     "exception": false,
     "start_time": "2022-02-07T21:05:17.554599",
     "status": "completed"
    },
    "tags": []
   },
   "outputs": [
    {
     "name": "stdout",
     "output_type": "stream",
     "text": [
      "Stop words\n",
      "\n",
      "['‘s', 'even', 'everything', 'how', 'thereafter', 'being', 'mine', 'up', 'make', 'really', '’d', 'own', 'becoming', 'none', 'but', 'between', 'down', '’s', 'whoever', 'been', 'every', 'else', '’m', 'unless', 'serious', 'ever', 'those', 'above', 'wherever', 'cannot', 'any', 'back', 'here', 'whom', 'to', 'well', 'fifteen', 'each', 'due', 'eight', 'whenever', 'often', 'last', 'both', 'ca', 'throughout', 'go', 'mostly', 'three', 'before', 'or', 'few', 'for', 'such', '’re', 'would', 'done', 'thru', 'almost', 'eleven', 'other', 'do', 'this', 'hereby', 'along', 'n‘t', \"'d\", 'next', 'one', 'seeming', 'were', 'then', 'yourself', 'part', 'wherein', 'while', 'anywhere', 'twenty', 'her', 'beforehand', 'put', 'somehow', 'off', 'either', 'very', 'us', 'perhaps', 'over', 'various', 'no', 'also', 'thus', 'via', 'ours', \"'ll\", 'someone', 'onto', 'ten', 'just', 'further', 'had', 'within', 'a', 'nine', 'him', 'his', 'never', 'third', 'full', 'nothing', 'hundred', 'there', 'hers', 'around', 'indeed', 'now', 'can', 'nevertheless', '‘re', 'therein', 'seem', 'twelve', 'thereby', 'might', 'from', 'others', 'hereupon', 'an', 'again', 'made', 'once', 'though', 'five', 'by', '‘ll', 'at', 'several', 'whither', 'their', 'our', 'least', 'some', 'too', 'the', 'they', 'except', 'who', 'thereupon', 'meanwhile', 'side', 'you', 'another', 'elsewhere', 'first', 'per', 'yet', 'formerly', '‘m', 'whence', 'latterly', 'whether', 'used', 'across', 'he', 'enough', 'will', 'whole', \"n't\", 'all', 'we', 'fifty', 'always', 'after', 'i', 'bottom', 'himself', 'n’t', 'afterwards', 'upon', 'with', 'ourselves', 'my', 'therefore', \"'s\", 'most', 'top', 'under', 'your', 'not', 'nowhere', 'anyway', 'whatever', 'anyone', '‘ve', 'through', 'rather', 'whereafter', 'seemed', 'so', 'get', 'nor', 'against', 'moreover', 'yourselves', 'anyhow', 'about', 'move', 'was', 'yours', 'because', 'below', 'six', 'latter', 'everyone', 'noone', 'still', 'does', 'must', 'them', 'call', 'why', '‘d', 'since', 'amount', 'alone', 'regarding', 'became', 'and', 'may', 'former', 'myself', 'doing', 'less', 'she', 'into', '’ll', 'sometime', 'although', 'name', 'itself', 'herself', 'besides', 'it', 'as', 'when', 'thence', 'if', 'front', 'seems', 'whereas', 'give', 'these', 'empty', 'themselves', 'many', 'see', 'much', 'become', 'only', 'forty', 'could', 'that', 'what', 'otherwise', 're', 'on', 'say', 'sometimes', 'amongst', 'in', 'namely', 'together', 'please', 'which', 'towards', 'without', 'hereafter', 'during', 'everywhere', 'has', 'out', 'whose', \"'re\", 'more', \"'ve\", 'am', 'whereby', 'nobody', 'beside', 'somewhere', 'quite', 'toward', 'me', '’ve', 'herein', 'using', 'beyond', 'have', 'among', 'than', \"'m\", 'where', 'did', 'until', 'sixty', 'whereupon', 'are', 'its', 'however', 'becomes', 'behind', 'something', 'neither', 'same', 'already', 'four', 'two', 'is', 'show', 'keep', 'of', 'anything', 'should', 'hence', 'be', 'take']\n",
      "\n",
      "Punctuation\n",
      "\n",
      "!\"#$%&'()*+,-./:;<=>?@[\\]^_`{|}~\n"
     ]
    }
   ],
   "source": [
    "# Load the core utils for english languge\n",
    "en = spacy.load('en_core_web_sm')\n",
    "# Donwload Stopwords\n",
    "stopwords = en.Defaults.stop_words\n",
    "# Convert to list\n",
    "lst_stopwords = list(stopwords)\n",
    "\n",
    "\n",
    "print('Stop words\\n')\n",
    "print(lst_stopwords)\n",
    "\n",
    "print('\\nPunctuation\\n')\n",
    "print(string.punctuation)"
   ]
  },
  {
   "cell_type": "code",
   "execution_count": 13,
   "id": "4c14b523",
   "metadata": {
    "execution": {
     "iopub.execute_input": "2022-02-07T21:05:18.525132Z",
     "iopub.status.busy": "2022-02-07T21:05:18.524196Z",
     "iopub.status.idle": "2022-02-07T21:05:18.527273Z",
     "shell.execute_reply": "2022-02-07T21:05:18.527813Z",
     "shell.execute_reply.started": "2022-02-07T21:00:34.840720Z"
    },
    "papermill": {
     "duration": 0.03934,
     "end_time": "2022-02-07T21:05:18.528029",
     "exception": false,
     "start_time": "2022-02-07T21:05:18.488689",
     "status": "completed"
    },
    "tags": []
   },
   "outputs": [
    {
     "data": {
      "text/plain": [
       "['beautiful',\n",
       " 'sunflowers',\n",
       " 'sunny',\n",
       " 'friday',\n",
       " 'morning',\n",
       " ':)',\n",
       " 'sunflowers',\n",
       " 'favourites',\n",
       " 'happy',\n",
       " 'friday',\n",
       " 'off…']"
      ]
     },
     "execution_count": 13,
     "metadata": {},
     "output_type": "execute_result"
    }
   ],
   "source": [
    "tweets_clean = list()\n",
    "# clean all word tokens\n",
    "for wrd in tweet_tokens:                   # Iterate over all words\n",
    "    if (wrd not in lst_stopwords and\n",
    "        wrd not in set(string.punctuation)):\n",
    "        tweets_clean.append(wrd)           # Add to clean tweets list\n",
    "\n",
    "tweets_clean"
   ]
  },
  {
   "cell_type": "markdown",
   "id": "3b4e4d29",
   "metadata": {
    "papermill": {
     "duration": 0.027977,
     "end_time": "2022-02-07T21:05:18.585673",
     "exception": false,
     "start_time": "2022-02-07T21:05:18.557696",
     "status": "completed"
    },
    "tags": []
   },
   "source": [
    "### Stemming and/or lemmetization"
   ]
  },
  {
   "cell_type": "markdown",
   "id": "bf70c135",
   "metadata": {
    "papermill": {
     "duration": 0.028213,
     "end_time": "2022-02-07T21:05:18.642239",
     "exception": false,
     "start_time": "2022-02-07T21:05:18.614026",
     "status": "completed"
    },
    "tags": []
   },
   "source": [
    "Stemming is the process of converting a word to its most general form, or stem. This helps in reducing the size of our vocabulary.\n",
    "\n",
    "Consider the words: \n",
    " * **learn**\n",
    " * **learn**ing\n",
    " * **learn**ed\n",
    " * **learn**t\n",
    " \n",
    "All these words are stemmed from its common root **learn**. However, in some cases, the stemming process produces words that are not correct spellings of the root word. For example, **happi** and **sunni**. That's because it chooses the most common stem for related words. For example, we can look at the set of words that comprises the different forms of happy:\n",
    "\n",
    " * **happ**y\n",
    " * **happi**ness\n",
    " * **happi**er\n",
    " \n",
    "We can see that the prefix **happi** is more commonly used. We cannot choose **happ** because it is the stem of unrelated words like **happen**.\n",
    " \n",
    " Lemmetization is the process of coverting a word into the least meaningfull part of it. Unlike stemming, lemmetization has to produce the least correct root with correct spelling. \n",
    " \n",
    " | Word | Lemma | \n",
    "| :- | -: |\n",
    "| **happiness** | **happiness** | \n",
    "| **happier** | **happy** | \n",
    "| **happier** | **happy** | \n",
    "\n",
    "\n",
    "Now, lets see some words that might make you feel the differnce. \n",
    "\n",
    "| Word | Stem | Lemma |\n",
    "| :- | -: | :-: |\n",
    "| **caring** | **care** | **caring**\n",
    "| **ties** | **ti** | **tie**\n",
    "| **easily** | **easili** | **easily**\n",
    "| **mice** | **mice** | **mouse**\n",
    "\n",
    "\n",
    "As you can see, stemming can sometimes produce uncorrect words such as `ti` and `easili`. On contrary, the lemmetization always produce a correct word in spelling even if this will lead to higher feature representation. For example, `caring` and `care` will be to different elements in the feature representation, however they share the same root `car` when dealing with stemming instead. We will be using `NLTK` library for that purpose for lemmetizing this data.\n",
    "\n",
    "\n"
   ]
  },
  {
   "cell_type": "code",
   "execution_count": 14,
   "id": "16fe9c0d",
   "metadata": {
    "execution": {
     "iopub.execute_input": "2022-02-07T21:05:18.705179Z",
     "iopub.status.busy": "2022-02-07T21:05:18.704378Z",
     "iopub.status.idle": "2022-02-07T21:05:20.958330Z",
     "shell.execute_reply": "2022-02-07T21:05:20.958817Z",
     "shell.execute_reply.started": "2022-02-07T20:42:39.319282Z"
    },
    "papermill": {
     "duration": 2.288407,
     "end_time": "2022-02-07T21:05:20.959014",
     "exception": false,
     "start_time": "2022-02-07T21:05:18.670607",
     "status": "completed"
    },
    "tags": []
   },
   "outputs": [
    {
     "data": {
      "text/plain": [
       "['beautiful',\n",
       " 'sunflower',\n",
       " 'sunny',\n",
       " 'friday',\n",
       " 'morning',\n",
       " ':)',\n",
       " 'sunflower',\n",
       " 'favourite',\n",
       " 'happy',\n",
       " 'friday',\n",
       " 'off…']"
      ]
     },
     "execution_count": 14,
     "metadata": {},
     "output_type": "execute_result"
    }
   ],
   "source": [
    "# Import WordNetLemmatizer\n",
    "from nltk.stem import WordNetLemmatizer\n",
    "# Intiate WordNetLemmatizer\n",
    "lemmatizer = WordNetLemmatizer()\n",
    "# Lemmetize the words\n",
    "tweets_lemmas = []\n",
    "for wrd in tweets_clean:\n",
    "    wrd = lemmatizer.lemmatize(wrd)\n",
    "    tweets_lemmas.append(wrd)\n",
    "    \n",
    "tweets_lemmas"
   ]
  },
  {
   "cell_type": "markdown",
   "id": "41eb0419",
   "metadata": {
    "papermill": {
     "duration": 0.028083,
     "end_time": "2022-02-07T21:05:21.015566",
     "exception": false,
     "start_time": "2022-02-07T21:05:20.987483",
     "status": "completed"
    },
    "tags": []
   },
   "source": [
    "### Putting it all together. \n",
    "By now, we have completed all the required preprocessing steps. Lets combine them all in a one preprocess function that will be used in our next tutorial. "
   ]
  },
  {
   "cell_type": "code",
   "execution_count": 15,
   "id": "7dadb062",
   "metadata": {
    "execution": {
     "iopub.execute_input": "2022-02-07T21:05:21.080939Z",
     "iopub.status.busy": "2022-02-07T21:05:21.080245Z",
     "iopub.status.idle": "2022-02-07T21:05:21.091381Z",
     "shell.execute_reply": "2022-02-07T21:05:21.091950Z",
     "shell.execute_reply.started": "2022-02-07T21:00:48.714214Z"
    },
    "papermill": {
     "duration": 0.045748,
     "end_time": "2022-02-07T21:05:21.092157",
     "exception": false,
     "start_time": "2022-02-07T21:05:21.046409",
     "status": "completed"
    },
    "tags": []
   },
   "outputs": [],
   "source": [
    "def preprocess(txt) -> str:\n",
    "    \n",
    "    # remove old style retweet text \"RT\"\n",
    "    RT_remover = lambda x : re.sub(r'^b\\s([RT]+)?','', x)\n",
    "    # remove all URLs\n",
    "    URL_remover = lambda x: re.sub(r'http\\S+', '', x)\n",
    "    # remove hashtags\n",
    "    # only removing the hash # sign from the word\n",
    "    Hashtag_remover = lambda x: re.sub(r'#', '', x)\n",
    "\n",
    "    # Apply all functions\n",
    "    txt = RT_remover(txt)\n",
    "    txt = URL_remover(txt)\n",
    "    txt = Hashtag_remover(txt)\n",
    "    \n",
    "    def tokenize(text) -> str:\n",
    "        \"\"\"\n",
    "        transform text into list of tokens\n",
    "        - param:\n",
    "            - text: input text -> str\n",
    "        - return\n",
    "            - text_tokens: list of tokens\n",
    "        \"\"\"\n",
    "        text = text.strip()\n",
    "        text_tokens = text.split()\n",
    "        return text_tokens\n",
    "    \n",
    "    lst_txt = tokenize(txt)\n",
    "    \n",
    "    # Import modules\n",
    "    import string\n",
    "    import spacy\n",
    "    from nltk.stem import WordNetLemmatizer\n",
    "    # Load the core utils for english languge\n",
    "    en = spacy.load('en_core_web_sm')\n",
    "    # Donwload Stopwords\n",
    "    stopwords = en.Defaults.stop_words\n",
    "    # Convert to list\n",
    "    lst_stopwords = list(stopwords)\n",
    "    \n",
    "    lst_txt_clean = list()\n",
    "    # clean all word tokens\n",
    "    for wrd in lst_txt:                   # Iterate over all words\n",
    "        if (wrd not in lst_stopwords and\n",
    "            wrd not in set(string.punctuation)):\n",
    "            lst_txt_clean.append(wrd)           # Add to clean tweets list\n",
    "\n",
    "    lemmatizer = WordNetLemmatizer()\n",
    "    # Lemmetize the words\n",
    "    lst_txt_lemmas = []\n",
    "    for wrd in lst_txt_clean:\n",
    "        wrd = lemmatizer.lemmatize(wrd)\n",
    "        lst_txt_lemmas.append(wrd)\n",
    "        \n",
    "        \n",
    "    return lst_txt_lemmas\n",
    "\n",
    "    \n",
    "    "
   ]
  },
  {
   "cell_type": "markdown",
   "id": "e881e5b0",
   "metadata": {
    "papermill": {
     "duration": 0.02803,
     "end_time": "2022-02-07T21:05:21.148477",
     "exception": false,
     "start_time": "2022-02-07T21:05:21.120447",
     "status": "completed"
    },
    "tags": []
   },
   "source": [
    "Let's test it!"
   ]
  },
  {
   "cell_type": "code",
   "execution_count": 16,
   "id": "b8e49414",
   "metadata": {
    "execution": {
     "iopub.execute_input": "2022-02-07T21:05:21.210091Z",
     "iopub.status.busy": "2022-02-07T21:05:21.207805Z",
     "iopub.status.idle": "2022-02-07T21:05:21.908421Z",
     "shell.execute_reply": "2022-02-07T21:05:21.907586Z",
     "shell.execute_reply.started": "2022-02-07T21:01:09.894159Z"
    },
    "papermill": {
     "duration": 0.731898,
     "end_time": "2022-02-07T21:05:21.908582",
     "exception": false,
     "start_time": "2022-02-07T21:05:21.176684",
     "status": "completed"
    },
    "tags": []
   },
   "outputs": [
    {
     "data": {
      "text/plain": [
       "['Well', 'morning', 'carry', 'great.', 'Work', ':)']"
      ]
     },
     "execution_count": 16,
     "metadata": {},
     "output_type": "execute_result"
    }
   ],
   "source": [
    "sample_tweet = all_positive_tweets[random.randint(0,5000)]\n",
    "preprocess(sample_tweet)"
   ]
  },
  {
   "cell_type": "markdown",
   "id": "f5f0f1c0",
   "metadata": {
    "papermill": {
     "duration": 0.028399,
     "end_time": "2022-02-07T21:05:21.965878",
     "exception": false,
     "start_time": "2022-02-07T21:05:21.937479",
     "status": "completed"
    },
    "tags": []
   },
   "source": [
    "That is the end of this tutorial! If you find this beneficial. Follow me for more updates!\n",
    "\n",
    "* [LinkedIn](https://www.linkedin.com/in/aaabulkhair/)\n",
    "* [Kaggle](https://www.kaggle.com/ahmedabdulhamid)\n"
   ]
  }
 ],
 "metadata": {
  "kernelspec": {
   "display_name": "Python 3 (ipykernel)",
   "language": "python",
   "name": "python3"
  },
  "language_info": {
   "codemirror_mode": {
    "name": "ipython",
    "version": 3
   },
   "file_extension": ".py",
   "mimetype": "text/x-python",
   "name": "python",
   "nbconvert_exporter": "python",
   "pygments_lexer": "ipython3",
   "version": "3.9.7"
  },
  "papermill": {
   "default_parameters": {},
   "duration": 33.915665,
   "end_time": "2022-02-07T21:05:25.345128",
   "environment_variables": {},
   "exception": null,
   "input_path": "__notebook__.ipynb",
   "output_path": "__notebook__.ipynb",
   "parameters": {},
   "start_time": "2022-02-07T21:04:51.429463",
   "version": "2.3.3"
  }
 },
 "nbformat": 4,
 "nbformat_minor": 5
}
