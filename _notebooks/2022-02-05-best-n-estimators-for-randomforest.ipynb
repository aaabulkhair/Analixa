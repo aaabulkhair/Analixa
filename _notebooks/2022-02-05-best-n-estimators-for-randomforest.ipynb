{
 "cells": [
  {
   "cell_type": "markdown",
   "id": "718de1f5-c7eb-4450-a859-dfa954ce500a",
   "metadata": {},
   "source": [
    "# Choosing Best n_estimators for RandomForest model without retraining\n",
    "> RandomForest is always an easy-to-go algorithm but determining the best n_estimators can be very computationally intensive. In this tutorial, we will find a way to detrmine the best n_estimators without retraining. \n",
    "\n",
    "- toc:true\n",
    "- branch: master\n",
    "- badges: true\n",
    "- comments: true\n",
    "- author: Ahmed Abulkhair\n",
    "- categories: [Machine Learning, RandomForest, Classification, Python]\n",
    "- image: images/rf.png"
   ]
  },
  {
   "cell_type": "markdown",
   "id": "175e2e66",
   "metadata": {
    "papermill": {
     "duration": 0.013824,
     "end_time": "2021-08-16T08:31:01.592358",
     "exception": false,
     "start_time": "2021-08-16T08:31:01.578534",
     "status": "completed"
    },
    "tags": []
   },
   "source": [
    "In this notebook, we will try to determine the best number of `n_estimators` for RandomForest model without training the model for multiple times"
   ]
  },
  {
   "cell_type": "markdown",
   "id": "1b5ee9c3",
   "metadata": {
    "papermill": {
     "duration": 0.014972,
     "end_time": "2021-08-16T08:31:01.622561",
     "exception": false,
     "start_time": "2021-08-16T08:31:01.607589",
     "status": "completed"
    },
    "tags": []
   },
   "source": [
    "### Load Dataset\n",
    "\n",
    "We will use one of the built-in datasets, which is `digits`"
   ]
  },
  {
   "cell_type": "code",
   "execution_count": 1,
   "id": "bdddf327",
   "metadata": {
    "execution": {
     "iopub.execute_input": "2021-08-16T08:31:01.671557Z",
     "iopub.status.busy": "2021-08-16T08:31:01.670809Z",
     "iopub.status.idle": "2021-08-16T08:31:02.822759Z",
     "shell.execute_reply": "2021-08-16T08:31:02.821919Z",
     "shell.execute_reply.started": "2021-08-16T08:24:42.962653Z"
    },
    "papermill": {
     "duration": 1.184533,
     "end_time": "2021-08-16T08:31:02.822928",
     "exception": false,
     "start_time": "2021-08-16T08:31:01.638395",
     "status": "completed"
    },
    "tags": []
   },
   "outputs": [],
   "source": [
    "# Import datasets\n",
    "import sklearn.datasets\n",
    "from sklearn.model_selection import train_test_split\n",
    "# Load dataset\n",
    "X, y = sklearn.datasets.load_digits(n_class = 10,return_X_y = True)\n",
    "# Split the data\n",
    "X_train, X_val, y_train, y_val = train_test_split(X, y)"
   ]
  },
  {
   "cell_type": "markdown",
   "id": "5bdf74f0",
   "metadata": {
    "papermill": {
     "duration": 0.012327,
     "end_time": "2021-08-16T08:31:02.848149",
     "exception": false,
     "start_time": "2021-08-16T08:31:02.835822",
     "status": "completed"
    },
    "tags": []
   },
   "source": [
    "### Import libraries"
   ]
  },
  {
   "cell_type": "code",
   "execution_count": 2,
   "id": "b78f5ccf",
   "metadata": {
    "execution": {
     "iopub.execute_input": "2021-08-16T08:31:02.880549Z",
     "iopub.status.busy": "2021-08-16T08:31:02.879855Z",
     "iopub.status.idle": "2021-08-16T08:31:03.044612Z",
     "shell.execute_reply": "2021-08-16T08:31:03.043951Z",
     "shell.execute_reply.started": "2021-08-16T08:24:48.827758Z"
    },
    "papermill": {
     "duration": 0.184004,
     "end_time": "2021-08-16T08:31:03.044757",
     "exception": false,
     "start_time": "2021-08-16T08:31:02.860753",
     "status": "completed"
    },
    "tags": []
   },
   "outputs": [],
   "source": [
    "\n",
    "import numpy as np\n",
    "import matplotlib.pyplot as plt\n",
    "%matplotlib inline\n",
    "from sklearn.ensemble import RandomForestClassifier\n",
    "from sklearn.metrics import accuracy_score"
   ]
  },
  {
   "cell_type": "markdown",
   "id": "c9bcfd01",
   "metadata": {
    "papermill": {
     "duration": 0.01235,
     "end_time": "2021-08-16T08:31:03.069881",
     "exception": false,
     "start_time": "2021-08-16T08:31:03.057531",
     "status": "completed"
    },
    "tags": []
   },
   "source": [
    "**Step 1:** first fit a Random Forest to the data. Set `n_estimators` to a high value."
   ]
  },
  {
   "cell_type": "code",
   "execution_count": 3,
   "id": "d0cd7baf",
   "metadata": {
    "execution": {
     "iopub.execute_input": "2021-08-16T08:31:03.100667Z",
     "iopub.status.busy": "2021-08-16T08:31:03.099983Z",
     "iopub.status.idle": "2021-08-16T08:31:04.587479Z",
     "shell.execute_reply": "2021-08-16T08:31:04.586869Z",
     "shell.execute_reply.started": "2021-08-16T08:27:01.560036Z"
    },
    "papermill": {
     "duration": 1.505062,
     "end_time": "2021-08-16T08:31:04.587630",
     "exception": false,
     "start_time": "2021-08-16T08:31:03.082568",
     "status": "completed"
    },
    "tags": []
   },
   "outputs": [
    {
     "data": {
      "text/plain": [
       "RandomForestClassifier(max_depth=4, n_estimators=500, n_jobs=-1)"
      ]
     },
     "execution_count": 3,
     "metadata": {},
     "output_type": "execute_result"
    }
   ],
   "source": [
    "rf = RandomForestClassifier(n_estimators=500, max_depth=4, n_jobs=-1)\n",
    "rf.fit(X_train, y_train)"
   ]
  },
  {
   "cell_type": "markdown",
   "id": "1f458772",
   "metadata": {
    "papermill": {
     "duration": 0.012831,
     "end_time": "2021-08-16T08:31:04.614155",
     "exception": false,
     "start_time": "2021-08-16T08:31:04.601324",
     "status": "completed"
    },
    "tags": []
   },
   "source": [
    "**Step 2:** Get predictions for each tree in Random Forest separately."
   ]
  },
  {
   "cell_type": "code",
   "execution_count": 4,
   "id": "599e2c6f",
   "metadata": {
    "execution": {
     "iopub.execute_input": "2021-08-16T08:31:04.645856Z",
     "iopub.status.busy": "2021-08-16T08:31:04.645161Z",
     "iopub.status.idle": "2021-08-16T08:31:04.751419Z",
     "shell.execute_reply": "2021-08-16T08:31:04.750736Z",
     "shell.execute_reply.started": "2021-08-16T08:27:45.528557Z"
    },
    "papermill": {
     "duration": 0.124389,
     "end_time": "2021-08-16T08:31:04.751565",
     "exception": false,
     "start_time": "2021-08-16T08:31:04.627176",
     "status": "completed"
    },
    "tags": []
   },
   "outputs": [],
   "source": [
    "predictions = []\n",
    "for tree in rf.estimators_:\n",
    "    predictions.append(tree.predict_proba(X_val)[None, :])"
   ]
  },
  {
   "cell_type": "markdown",
   "id": "fff79992",
   "metadata": {
    "papermill": {
     "duration": 0.012583,
     "end_time": "2021-08-16T08:31:04.777466",
     "exception": false,
     "start_time": "2021-08-16T08:31:04.764883",
     "status": "completed"
    },
    "tags": []
   },
   "source": [
    "**Step 3:** Concatenate the predictions to a tensor of size `(number of trees, number of objects, number of classes)`."
   ]
  },
  {
   "cell_type": "code",
   "execution_count": 5,
   "id": "419bdc7a",
   "metadata": {
    "execution": {
     "iopub.execute_input": "2021-08-16T08:31:04.809552Z",
     "iopub.status.busy": "2021-08-16T08:31:04.808336Z",
     "iopub.status.idle": "2021-08-16T08:31:04.820970Z",
     "shell.execute_reply": "2021-08-16T08:31:04.821486Z",
     "shell.execute_reply.started": "2021-08-16T08:28:29.781807Z"
    },
    "papermill": {
     "duration": 0.031219,
     "end_time": "2021-08-16T08:31:04.821703",
     "exception": false,
     "start_time": "2021-08-16T08:31:04.790484",
     "status": "completed"
    },
    "tags": []
   },
   "outputs": [],
   "source": [
    "predictions = np.vstack(predictions)"
   ]
  },
  {
   "cell_type": "markdown",
   "id": "f3c53133",
   "metadata": {
    "papermill": {
     "duration": 0.012954,
     "end_time": "2021-08-16T08:31:04.847933",
     "exception": false,
     "start_time": "2021-08-16T08:31:04.834979",
     "status": "completed"
    },
    "tags": []
   },
   "source": [
    "**Step 4:** Сompute cumulative average of the predictions. That will be a tensor, that will contain predictions of the random forests for each `n_estimators`."
   ]
  },
  {
   "cell_type": "code",
   "execution_count": 6,
   "id": "108e16fc",
   "metadata": {
    "execution": {
     "iopub.execute_input": "2021-08-16T08:31:04.877289Z",
     "iopub.status.busy": "2021-08-16T08:31:04.876691Z",
     "iopub.status.idle": "2021-08-16T08:31:04.909924Z",
     "shell.execute_reply": "2021-08-16T08:31:04.910397Z",
     "shell.execute_reply.started": "2021-08-16T08:28:58.886936Z"
    },
    "papermill": {
     "duration": 0.049578,
     "end_time": "2021-08-16T08:31:04.910642",
     "exception": false,
     "start_time": "2021-08-16T08:31:04.861064",
     "status": "completed"
    },
    "tags": []
   },
   "outputs": [],
   "source": [
    "cum_mean = np.cumsum(predictions, axis=0)/np.arange(1, predictions.shape[0] + 1)[:, None, None]"
   ]
  },
  {
   "cell_type": "markdown",
   "id": "d14ef86e",
   "metadata": {
    "papermill": {
     "duration": 0.012898,
     "end_time": "2021-08-16T08:31:04.936847",
     "exception": false,
     "start_time": "2021-08-16T08:31:04.923949",
     "status": "completed"
    },
    "tags": []
   },
   "source": [
    "**Step 5:** Get accuracy scores for each `n_estimators` value"
   ]
  },
  {
   "cell_type": "code",
   "execution_count": 7,
   "id": "b21f1294",
   "metadata": {
    "execution": {
     "iopub.execute_input": "2021-08-16T08:31:04.969120Z",
     "iopub.status.busy": "2021-08-16T08:31:04.968085Z",
     "iopub.status.idle": "2021-08-16T08:31:05.057246Z",
     "shell.execute_reply": "2021-08-16T08:31:05.056676Z",
     "shell.execute_reply.started": "2021-08-16T08:29:35.961114Z"
    },
    "papermill": {
     "duration": 0.107295,
     "end_time": "2021-08-16T08:31:05.057383",
     "exception": false,
     "start_time": "2021-08-16T08:31:04.950088",
     "status": "completed"
    },
    "tags": []
   },
   "outputs": [],
   "source": [
    "scores = []\n",
    "for pred in cum_mean:\n",
    "    scores.append(accuracy_score(y_val, np.argmax(pred, axis=1)))"
   ]
  },
  {
   "cell_type": "markdown",
   "id": "cf79d46d",
   "metadata": {
    "papermill": {
     "duration": 0.012864,
     "end_time": "2021-08-16T08:31:05.083659",
     "exception": false,
     "start_time": "2021-08-16T08:31:05.070795",
     "status": "completed"
    },
    "tags": []
   },
   "source": [
    "**That is it!** Plot the resulting scores to obtain similar plot to one that appeared on the slides."
   ]
  },
  {
   "cell_type": "code",
   "execution_count": 8,
   "id": "8d19d84d",
   "metadata": {
    "execution": {
     "iopub.execute_input": "2021-08-16T08:31:05.129794Z",
     "iopub.status.busy": "2021-08-16T08:31:05.129117Z",
     "iopub.status.idle": "2021-08-16T08:31:05.296366Z",
     "shell.execute_reply": "2021-08-16T08:31:05.295771Z",
     "shell.execute_reply.started": "2021-08-16T08:30:03.635626Z"
    },
    "papermill": {
     "duration": 0.199904,
     "end_time": "2021-08-16T08:31:05.296530",
     "exception": false,
     "start_time": "2021-08-16T08:31:05.096626",
     "status": "completed"
    },
    "tags": []
   },
   "outputs": [
    {
     "data": {
      "image/png": "[encoded data removed]",
      "text/plain": [
       "<Figure size 720x432 with 1 Axes>"
      ]
     },
     "metadata": {
      "needs_background": "light"
     },
     "output_type": "display_data"
    }
   ],
   "source": [
    "plt.figure(figsize=(10, 6))\n",
    "plt.plot(scores, linewidth=3)\n",
    "plt.xlabel('num_trees')\n",
    "plt.ylabel('accuracy');"
   ]
  },
  {
   "cell_type": "markdown",
   "id": "5f27b1c6",
   "metadata": {
    "papermill": {
     "duration": 0.013607,
     "end_time": "2021-08-16T08:31:05.324586",
     "exception": false,
     "start_time": "2021-08-16T08:31:05.310979",
     "status": "completed"
    },
    "tags": []
   },
   "source": [
    "We see, that 150 trees are already sufficient to have stable result."
   ]
  },
  {
   "cell_type": "code",
   "execution_count": null,
   "id": "2ee88b63",
   "metadata": {
    "papermill": {
     "duration": 0.013516,
     "end_time": "2021-08-16T08:31:05.352156",
     "exception": false,
     "start_time": "2021-08-16T08:31:05.338640",
     "status": "completed"
    },
    "tags": []
   },
   "outputs": [],
   "source": []
  }
 ],
 "metadata": {
  "kernelspec": {
   "display_name": "Python 3 (ipykernel)",
   "language": "python",
   "name": "python3"
  },
  "language_info": {
   "codemirror_mode": {
    "name": "ipython",
    "version": 3
   },
   "file_extension": ".py",
   "mimetype": "text/x-python",
   "name": "python",
   "nbconvert_exporter": "python",
   "pygments_lexer": "ipython3",
   "version": "3.9.7"
  },
  "papermill": {
   "default_parameters": {},
   "duration": 12.362966,
   "end_time": "2021-08-16T08:31:06.076258",
   "environment_variables": {},
   "exception": null,
   "input_path": "__notebook__.ipynb",
   "output_path": "__notebook__.ipynb",
   "parameters": {},
   "start_time": "2021-08-16T08:30:53.713292",
   "version": "2.3.3"
  }
 },
 "nbformat": 4,
 "nbformat_minor": 5
}
